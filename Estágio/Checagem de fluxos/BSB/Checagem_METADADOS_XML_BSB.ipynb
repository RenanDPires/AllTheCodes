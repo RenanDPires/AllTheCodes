{
 "cells": [
  {
   "cell_type": "code",
   "execution_count": 1,
   "id": "16a57d16",
   "metadata": {},
   "outputs": [],
   "source": [
    "import re\n",
    "import os "
   ]
  },
  {
   "cell_type": "code",
   "execution_count": 2,
   "id": "a364a417",
   "metadata": {},
   "outputs": [],
   "source": [
    "arquivo = open('OpenPDC_ONS_BSB_30_08_2021_v1.xml', 'r')"
   ]
  },
  {
   "cell_type": "code",
   "execution_count": 3,
   "id": "5b58418d",
   "metadata": {
    "scrolled": true
   },
   "outputs": [
    {
     "name": "stdout",
     "output_type": "stream",
     "text": [
      "<_io.TextIOWrapper name='OpenPDC_ONS_BSB_30_08_2021_v1.xml' mode='r' encoding='cp1252'>\n"
     ]
    }
   ],
   "source": [
    "print(arquivo)"
   ]
  },
  {
   "cell_type": "code",
   "execution_count": 4,
   "id": "6048b1af",
   "metadata": {},
   "outputs": [],
   "source": [
    "limpo= arquivo.readlines()"
   ]
  },
  {
   "cell_type": "code",
   "execution_count": 5,
   "id": "e365321b",
   "metadata": {},
   "outputs": [
    {
     "name": "stdout",
     "output_type": "stream",
     "text": [
      "['UFPA-PMU_Belem_PA', 'UNIFEI-PMU_Itajuba_MG', 'UNB-PMU_Brasilia_DF', 'UFRJ-COPPE-PMU_Rio_de_Janeiro_RJ', 'UFC-PMU_Fortaleza_CE', 'USP_SC-PMU_Sao_Carlos_SP', 'UTFPR-PMU_Curitiba_PR', 'UFSC-PMU_Florianopolis_SC', 'UNIR-PMU_Porto_Velho_RO', 'UFMT-PMU_Cuiaba_MT', 'UNIPAMPA-PMU_Alegrete_RS', 'UFMG-PMU_Belo_Horizonte_MG', 'UFMS-PMU_Campo_Grande_MS', 'UFPE-PMU_Recife_PE', 'UFT-PMU_Palmas_TO', 'UFMA-PMU_Sao_Luiz_MA', 'UFJF-PMU_Juiz_de_Fora_MG', 'UFBA-PMU_Salvador_BA', 'UFRGS-PMU_Porto_Alegre_RS', 'UFAC-PMU_Rio_Branco_AC', 'UFAM-PMU_Manaus_AM', 'UNIFAP-PMU_Macapa_AP', 'UFRR-PMU_Boa_Vista_RR', 'UFES-PMU_Vitoria_ES', 'UNICAMP-PMU_Campinas_SP', 'UFPI-PMU_Teresina_PI', 'LT 230  ITAGUACU - BAR.COQUEIROS C1', 'LT 230  BAR.COQUEIROS - ITAGUACU C1', 'LT 500  SAO SIMAO-SE - ITAGUACU C1', 'LT 230  ENCRUZO NOVO - MIRANDA II C1', 'LT 230  MIRANDA II - ENCRUZO NOVO C1', 'LT 500  ITAGUACU - SAO SIMAO-SE C1', 'LT 500  B.DESPACHO 3 - SAO GOTARDO 2 C2', 'LT 500  NOVA PONTE - SAO GOTARDO 2 C1', 'LT 500  SAO GOTARDO 2 - NOVA PONTE C1', 'LT 500  SAO GOTARDO 2 - B.DESPACHO 3 C2', 'LT 500  VILA DO CONDE - TUCURUI C3', 'LT 500  TUCURUI - VILA DO CONDE C3', 'LT 500  ESTREITO - NOVA PONTE C1', 'LT 500  NOVA PONTE - ESTREITO C1', 'BAA      345  VENDA PEDRAS', 'BAB      345  VENDA PEDRAS', 'BAA      138  VENDA PEDRAS', 'BAB      138  VENDA PEDRAS', 'LT 230  JAURU - VILHENA C1', 'LT 230  VILHENA - JAURU C1', 'LT 230  JAURU - VILHENA C2', 'LT 230  VILHENA - JAURU C2', 'LT 230  SAMUEL - ARIQUEMES C2', 'LT 230  ARIQUEMES - SAMUEL C2', 'LT 230  ARIQUEMES - JI-PARANA C2', 'LT 230  JI-PARANA - ARIQUEMES C2', 'LT 230  JI-PARANA - PIMENTA BUENO C2', 'LT 230  PIMENTA BUENO - JI-PARANA C2', 'LT 230  PIMENTA BUENO - VILHENA C2', 'LT 230  VILHENA - PIMENTA BUENO C2', 'LT 500  ITUMBIARA - NOVA PONTE C1', 'LT 500  NOVA PONTE - ITUMBIARA C1', 'LT 500  EMBORCACAO - NOVA PONTE C2', 'LT 500  NOVA PONTE - EMBORCACAO C2', 'LT 500  PARNAIBA III - TIANGUA II C1', 'LT 500  TIANGUA II - PARNAIBA III C1', 'LT 525  SALTO CAXIAS - CASCAVEL OEST C1', 'LT 525  S.SANTIAGO - SALTO CAXIAS C1', 'LT 525  ASSIS - LONDRINA ESU C2', 'LT 525  LONDRINA ESU - ASSIS C2', 'LT 525  SALTO CAXIAS - S.SANTIAGO C1', 'LT 500  BATEIAS - ITATIBA C1', 'LT 525  CURIT.LESTE - BLUMENAU C1', 'LT 525  BLUMENAU - CURIT.LESTE C1', 'LT 440  CABREUVA - SALTO C1', 'LT 440  CABREUVA - GERDAU SP C1', 'LT 440  CABREUVA - BAURU C1', 'LT 440  CABREUVA - BOM JARDIM C1', 'LT 440  AGUA VERMELHA - RIBEIRAOPRETO C1', 'LT 230  ROSANA - N.P.PRIMAVERA C1', 'LT 230  ROSANA - N.P.PRIMAVERA C2', 'BA1      230  ROSANA', 'BA2      230  ROSANA', 'LT 440  BAGUACU - ILHA SOLTEIRA C1', 'LT 440  BAGUACU - ILHA SOLTEIRA C2', 'LT 440  BAGUACU - BAURU C1', 'LT 440  BAGUACU - BAURU C2', 'BA1      440  BAGUACU', 'BA2      440  BAGUACU', 'LT 440  ALTA PAULISTA - TAQUARUCU C1', 'SPALP_440_LTSPMRD_1', 'BA1      440  ALTA PAULISTA', 'BA2      440  ALTA PAULISTA', 'LT 440  BRACELL - BAURU C1', 'LT 440  BRACELL - OESTE C1', 'BA1      440  BRACELL', 'BA2      440  BRACELL', 'LT 440  AGUA VERMELHA - ILHA SOLTEIRA C1', 'LT 440  AGUA VERMELHA - ARARAQUARA CTP C1', 'LT 440  AGUA AZUL - SANTO ANGELO C1', 'LT 440  AGUA AZUL - BOM JARDIM C1', 'LT 500  COLINAS - IMPERATRIZ C1', 'LT 500  COLINAS - MIRACEMA C1', 'BA1      500  COLINAS', 'BA2      500  COLINAS', 'LT 230  PORTO VELHO - ABUNA C2', 'LT 230  PORTO VELHO - SAMUEL C1', 'LT 230  PORTO VELHO - ABUNA C1', 'LT 230  PORTO VELHO - SAMUEL C2', 'LT 230  PORTO VELHO - C.PORTO VELHO C1', 'LT 230  PORTO VELHO - C.PORTO VELHO C2', 'BA1      230  PORTO VELHO', 'BA2      230  PORTO VELHO', 'LT 500  P.DUTRA - MIRANDA II C2', 'LT 500  P.DUTRA - S.ANTON LOPES C1', 'LT 500  P.DUTRA - IMPERATRIZ C1', 'BA1      500  P.DUTRA', 'BA2      500  P.DUTRA', 'LT 500  P.DUTRA - B. ESPERANCA C1', 'LT 500  P.DUTRA - TERESINA II CC8', 'LT 500  P.DUTRA - IMPERATRIZ C2', 'LT 500  P.DUTRA - TERESINA II CC9', 'LT 230  JAURU - VARZ.GRANDE 2 C1', 'LT 230  JAURU - VARZ.GRANDE 2 C2', 'BA1      230  JAURU', 'BA2      230  JAURU', 'LT 500  IMPERATRIZ - MARABA C1', 'LT 500  IMPERATRIZ - P.DUTRA C1', 'LT 500  IMPERATRIZ - MARABA C2', 'LT 500  IMPERATRIZ - COLINAS C1', 'BA1      500  IMPERATRIZ', 'BA2      500  IMPERATRIZ', 'LT 230  SAMUEL - ARIQUEMES C1', 'LT 230  SAMUEL - PORTO VELHO C1', 'LT 230  SAMUEL - PORTO VELHO C2', 'BA1      230  SAMUEL', 'BA2      230  SAMUEL', 'LT 500  TUCURUI - MARABA C1', 'LT 500  TUCURUI - MARABA C2', 'BA1      500  TUCURUI', 'BA2      500  TUCURUI', 'LT 500  COLINAS - ITACAIUNAS C1', 'LT 500  COLINAS - IMPERATRIZ C2', 'LT 500  COLINAS - MIRACEMA C2', 'LT 500  COLINAS - RIB.GONCALVES C1', 'LT 500  IMPERATRIZ - COLINAS C2', 'LT 500  S.DA MESA - GURUPI C2', 'LT 500  S.DA MESA - SAMAMBAIA C3', 'LT 500  S.DA MESA - SERRA MESA 2 C1', 'LT 500  SAMAMBAIA - S.DA MESA C3', 'LT 500  MIRACEMA - COLINAS C2', 'LT 500  MIRACEMA - GURUPI C2', 'LT 500  GURUPI - MIRACEMA C2', 'LT 500  GURUPI - S.DA MESA C2', 'LT 500  SE LAJEADO - MIRACEMA C2', 'LT 500  SE LAJEADO - MIRACEMA C1', 'LT 500  MIRACEMA - SE LAJEADO C1', 'LT 500  MIRACEMA - SE LAJEADO C2', 'LT 230  JAURU - JUBA C1', 'LT 230  JAURU - JUBA C2', 'LT 525  C.NOVOS - MACHADINHO C2', 'LT 500  IMPERATRIZ - ACAILANDIA C1', 'LT 500  TUCURUI - MARABA C3', 'LT 500  TUCURUI - MARABA C4', 'LT 500  P.DUTRA - ACAILANDIA C1', 'LT 500  TUCURUI - VILA DO CONDE C2', 'LT 525  C.NOVOS - BLUMENAU C1', 'LT 500  POCOES III - IBICOARA CL5', 'LT 500  IBICOARA - POCOES III CL5', 'BAB1     500  POCOES III', 'BAB2     500  POCOES III', 'LT 500  TUCURUI - XINGU C1', 'LT 500  TUCURUI - XINGU C2', 'LT 500  FORTALEZA II - PECEM II CC2', 'LT 500  FORTALEZA II - QUIXADA CV5', 'BAB1     500  FORTALEZA II', 'BAB12     500  FORTALEZA II', 'LT 500  P. AFONSO IV_SE - ANGELIM II CL6', 'LT 500  P. AFONSO IV_SE - OLINDINA CS5', 'LT 500  P. AFONSO IV_SE - USINA XINGO CV6', 'LT 500  P. AFONSO IV_SE - US. L.GONZAGA CC1', 'BAB1     500  P. AFONSO IV_SE', 'BAB2     500  P. AFONSO IV_SE', 'LT 500  TIANGUA II - SOBRAL III CV5', 'LT 500  TIANGUA II - TERESINA II CV9', 'LT 500  FORTALEZA II - PECEM II CC1', 'LT 765  F.IGUACU 60HZ - IVAIPORA FUR C1', 'BAA      765  F.IGUACU 60HZ', 'LT 765  F.IGUACU 60HZ - IVAIPORA FUR C2', 'BAB      765  F.IGUACU 60HZ', 'LT 765  F.IGUACU 60HZ - IVAIPORA FUR C3', 'LT 765  IVAIPORA FUR - F.IGUACU 60HZ C1', 'LT 765  IVAIPORA FUR - F.IGUACU 60HZ C2', 'BAB      765  IVAIPORA FUR', 'LT 765  IVAIPORA FUR - F.IGUACU 60HZ C3', 'LT 765  IVAIPORA FUR - ITABERA C1', 'LT 765  IVAIPORA FUR - ITABERA C2', 'LT 765  IVAIPORA FUR - ITABERA C3', 'LT 765  ITABERA - IVAIPORA FUR C1', 'BAA      765  ITABERA', 'LT 765  ITABERA - IVAIPORA FUR C2', 'BAB      765  ITABERA', 'LT 765  ITABERA - IVAIPORA FUR C3', 'LT 765  ITABERA - TIJUCO PRETO C1', 'LT 765  ITABERA - TIJUCO PRETO C2', 'LT 765  ITABERA - TIJUCO PRETO C3', 'LT 765  TIJUCO PRETO - ITABERA C1', 'BAA      765  TIJUCO PRETO', 'LT 765  TIJUCO PRETO - ITABERA C2', 'BAB      765  TIJUCO PRETO', 'LT 765  TIJUCO PRETO - ITABERA C3', 'LT 500  BATEIAS - IBIUNA C1', 'BAB1     525  BATEIAS', 'LT 500  BATEIAS - IBIUNA C2', 'BAB2     525  BATEIAS', 'LT 500  IBIUNA - BATEIAS C1', 'BAA      500  IBIUNA', 'LT 500  IBIUNA - BATEIAS C2', 'BAB      500  IBIUNA', 'LT 500  IBIUNA - ITATIBA C1', 'LT 500  S.DA MESA - SAMAMBAIA C1', 'BAA1     500  S.DA MESA', 'LT 500  S.DA MESA - SAMAMBAIA C2', 'BAB1     500  S.DA MESA', 'LT 500  S.DA MESA - GURUPI C1', 'LT 500  ITUMBIARA - SAO SIMAO-SE C1', 'LT 500  ITUMBIARA - EMBORCACAO C1', 'LT 500  ANGRA FUR - C. PAULISTA C1', 'LT 500  ANGRA FUR - NOVA IGUACU C1', 'LT 500  ANGRA FUR - ZONA OESTE C1', 'LT 500  C. PAULISTA - ANGRA FUR C1', 'SPSTCH_500_LTSPSTCA_1', 'LT 500  C. PAULISTA - ITAJUBA 3 C1', 'SPSTCH_500_LTRJSTAD_1', 'LT 500  C. PAULISTA - B. FLUMINENSE C1', 'LT 500  C. PAULISTA - RESENDE C1', 'LT 500  C. PAULISTA - TAUBATE C1', 'LT 500  C. PAULISTA - TIJUCO PRETO C1', 'LT 345  OURO PRETO 2 - BARRO BRANCO C1', 'BA2      345  OURO PRETO 2', 'LT 345  RIO NOVO SUL - VITORIA C1', 'LT 345  RIO NOVO SUL - VIANA C1', 'LT 345  RIO NOVO SUL - CAMPOS C2', 'LT 345  RIO NOVO SUL - CAMPOS C1', 'LT 525  AREIA - BATEIAS C1', 'LT 525  AREIA - IVAIPORA ELS C1', 'BAA      525  AREIA', 'LT 525  AREIA - C.NOVOS C1', 'LT 525  AREIA - SEGREDO C1', 'BAB      525  AREIA', 'LT 525  AREIA - BENTO MUNHOZ C1', 'LT 525  AREIA - BENTO MUNHOZ C2', 'LT 525  AREIA - CURITIBA C1', 'LT 525  IVAIPORA ELS - IVAIPORA FUR C2', 'BAA1      525  IVAIPORA ELS', 'LT 525  IVAIPORA ELS - IVAIPORA FUR C3', 'LT 525  IVAIPORA ELS - LONDRINA ESU C1', 'BAB1      525  IVAIPORA ELS', 'LT 525  IVAIPORA ELS - S.SANTIAGO C1', 'LT 525  IVAIPORA ELS - S.SANTIAGO C2', 'LT 525  IVAIPORA ELS - IVAIPORA FUR C1', 'LT 525  IVAIPORA ELS - AREIA C1', 'LT 525  IVAIPORA ELS - CASCAVEL OEST C1', 'LT 525  NOVA STA RITA - ITA C1', 'LT 525  NOVA STA RITA - GRAVATAI C1', 'BAA1      525  NOVA STA RITA', 'LT 525  NOVA STA RITA - C.NOVOS C1', 'BAB1      525  NOVA STA RITA', 'LT 525  C.NOVOS - AREIA C1', 'LT 525  C.NOVOS - ABDON BATISTA C1', 'BAA      525  C.NOVOS', 'LT 525  C.NOVOS - NOVA STA RITA C1', 'LT 525  C.NOVOS - MACHADINHO C1', 'BAB      525  C.NOVOS', 'LT 525  C.NOVOS - CAXIAS C1', 'LT 525  ITA - CAXIAS C1', 'LT 525  ITA - S.SANTIAGO C1', 'BAA1      525  ITA', 'LT 525  ITA - MACHADINHO C1', 'LT 525  ITA - NOVA STA RITA C1', 'BAB1      525  ITA', 'LT 525  NOVA STA RITA - ITA C2', 'BAA      525  NOVA STA RITA', 'BAB      525  NOVA STA RITA', 'LT 525  ITA - S.SANTIAGO C2', 'LT 525  ITA - NOVA STA RITA C2', 'BAA      525  ITA', 'BAB      525  ITA', 'LT 525  IVAIPORA ELS - LONDRINA ESU C2', 'BAA      525  IVAIPORA ELS', 'BAB      525  IVAIPORA ELS', 'BA1      440  AGUA AZUL', 'BA2      440  AGUA AZUL', 'LT 500  JAURU - SE CUIABA C2', 'LT 500  SE CUIABA - JAURU C2', 'LT 500  TIANGUA II - ACARAU III C1', 'BA1110   500  TIANGUA II', 'BA2220   500  TIANGUA II', 'LT 500  ACARAU III - PECEM II CL1', 'LT 500  ACARAU III - TIANGUA II C1', 'LT 500  ACARAU III - PARNAIBA III C1', 'BA1110   500  ACARAU III', 'BA2220   500  ACARAU III', 'LT 500  PARNAIBA III - ACARAU III C1', 'LT 500  PARNAIBA III - BACABEIRA C1', 'LT 500  PARNAIBA III - BACABEIRA C2', 'BA1110   500  PARNAIBA III', 'BA2220   500  PARNAIBA III', 'LT 500  PECEM II - ACARAU III CL1', 'BA1      500  BACABEIRA', 'BA2      500  BACABEIRA', 'LT 500  BACABEIRA - PARNAIBA III C1', 'LT 500  BACABEIRA - PARNAIBA III C2', 'LT 500  JAGUARA-SE - ESTREITO C1', 'LT 440  ILHA SOLTEIRA - IL.SOLTEIRA 2 C1', 'LT 440  ILHA SOLTEIRA - IL.SOLTEIRA 2 C2', 'LT 500  ITUMBIARA - MARIMBONDO C1', 'LT 500  ITUMBIARA - R.VERDE NORTE C1', 'LT 500  ITUMBIARA - SAMAMBAIA C1', 'BA2      500  JAGUARA-SE', 'BA1      440  ILHA SOLTEIRA', 'BA2      440  ILHA SOLTEIRA', 'BAA5     500  ITUMBIARA', 'BAB 500  ITUMBIARA - RVN', 'BAB 500  ITUMBIARA - STSB', 'LT 500  PARANAITA - CLAUDIA C3', 'LT 500  CLAUDIA - PARANAITA C3', 'LT 500  CLAUDIA - PARANATINGA C3', 'LT 500  PARANATINGA - CLAUDIA C3', 'LT 500  PARANATINGA - RIBEIRAOZINHO C3', 'LT 500  RIBEIRAOZINHO - PARANATINGA C3', 'BA01     500  PARANAITA', 'BA1      500  CLAUDIA', 'BA01     500  PARANATINGA', 'BA1      500  RIBEIRAOZINHO', 'BA601    345  RIO NOVO SUL', 'LT 500  LECHUGA - SILVES C1', 'LT 500  LECHUGA - SILVES C2', 'BA1      500  LECHUGA', 'BA2      500  LECHUGA', 'LT 500  P. AFONSO IV_SE - US. L.GONZAGA CC2', 'LT 500  US. L.GONZAGA - P. AFONSO IV_SE CC2', 'LT 500  USINA XINGO - JARDIM CV8', 'LT 500  JARDIM - USINA XINGO CV8', 'LT 500  BURITIRAMA - BARREIRAS II CN6', 'BAB1     500  BURITIRAMA', 'BAB2     500  BURITIRAMA', 'LT 500  BARREIRAS II - BURITIRAMA CN6', 'LT 500  BARREIRAS II - RIO DAS EGUAS CN5', 'LT 500  RIO DAS EGUAS - BARREIRAS II CN5', 'LT 500  MARITUBA - VILA DO CONDE C1', 'BA1      500  MARITUBA', 'BA2      500  MARITUBA', 'LT 500  VILA DO CONDE - MARITUBA C1', 'BAA      500  JANAUBA 3', 'BAB      500  JANAUBA 3', 'LT 500  JANAUBA 3 - IGAPORA III CL6', 'LT 500  JANAUBA 3 - P. JUSCELINO C1', 'LT 500  JANAUBA 3 - P. JUSCELINO C2', 'LT 500  P. JUSCELINO - JANAUBA 3 C1', 'LT 500  P. JUSCELINO - JANAUBA 3 C2', 'LT 500  IGAPORA III - JANAUBA 3 CL6', 'LT 500  IGAPORA III - JANAUBA 3 CL7', 'LT 500  BURITIRAMA - QUEIMADA NOVA 2 CL2', 'LT 500  QUEIMADA NOVA 2 - BURITIRAMA CL2', 'LT 500  COLINAS - MIRACEMA C3', 'LT 500  PIRAPORA 2 - ARINOS 2 C1', 'LT 500  ARINOS 2 - PIRAPORA 2 C1', 'LT 500  ARINOS 2 - RIO DAS EGUAS CN4', 'BA1      500  ARINOS 2', 'BA2      500  ARINOS 2', 'LT 500  RIO DAS EGUAS - ARINOS 2 CN4', 'LT 500  JUAZEIRO III - OUROLANDIA II CF1', 'LT 500  OUROLANDIA II - JUAZEIRO III CF1', 'LT 500  GENTIO OURO II - SOL DO SERTAO C1', 'LT 500  BOM.JES.LAPA II - SOL DO SERTAO C1', 'LT 500  SOL DO SERTAO - GENTIO OURO II C1', 'LT 500  SOL DO SERTAO - BOM.JES.LAPA II C1', 'BA1      500  RIO NOVO SUL', 'BA2      500  RIO NOVO SUL', 'LT 500  RIO NOVO SUL - MUTUM C1', 'BA1      500  MUTUM', 'BA2      500  MUTUM', 'LT 500  MUTUM - RIO NOVO SUL C1', 'LT 500  MUTUM - G.VALADARES 6 C1', 'LT 500  G.VALADARES 6 - MUTUM C1', 'LT 500  C.GRANDE III - SANTA LUZIA II CZ6', 'LT 500  SANTA LUZIA II - C.GRANDE III CZ6', 'BAB2     500  SANTA LUZIA II', 'LT 500  SANTA LUZIA II - MILAGRES II CC5', 'BAB1     500  SANTA LUZIA II', 'LT 500  POCOES III - PE. PARAISO 2 C2', 'LT 500  MILAGRES II - QUEIMADA NOVA 2 CC3', 'LT 500  QUEIMADA NOVA 2 - MILAGRES II CC3', 'LT 500  JANAUBA 3 - PIRAPORA 2 C1', 'LT 500  JANAUBA 3 - BOM.JES.LAPA II CL4', 'LT 500  BOM.JES.LAPA II - JANAUBA 3 CL4', 'LT 500  PIRAPORA 2 - JANAUBA 3 C1 ']\n"
     ]
    }
   ],
   "source": [
    "fluxos= []\n",
    "for x in range(len(limpo)):\n",
    "    if '<idName>' in limpo[x]:\n",
    "        resultado1=re.split(r'<idName>',limpo[x])\n",
    "        for l in range(len(resultado1)):\n",
    "            resultado2=re.split(r'</idName>\\n',resultado1[l])\n",
    "        fluxos.append(resultado2[0])\n",
    "print(fluxos)"
   ]
  },
  {
   "cell_type": "code",
   "execution_count": 6,
   "id": "b81abbf5",
   "metadata": {},
   "outputs": [
    {
     "name": "stdout",
     "output_type": "stream",
     "text": [
      "394\n"
     ]
    }
   ],
   "source": [
    "print(len(fluxos))"
   ]
  },
  {
   "cell_type": "code",
   "execution_count": 7,
   "id": "c3bdc219",
   "metadata": {},
   "outputs": [
    {
     "name": "stdout",
     "output_type": "stream",
     "text": [
      "394 423\n"
     ]
    }
   ],
   "source": [
    "excel= open('excel.txt', 'r').readlines()\n",
    "print(len(fluxos), len(excel))"
   ]
  },
  {
   "cell_type": "code",
   "execution_count": 8,
   "id": "a3e39ccc",
   "metadata": {},
   "outputs": [
    {
     "name": "stdout",
     "output_type": "stream",
     "text": [
      "['LT 500  ACARAU III / PECEM II CL1\\n', 'LT 500  ACARAU III / TIANGUA II C1\\n', 'LT 500  ACARAU III / PARNAIBA III C1\\n', 'BA1110   500  ACARAU III\\n', 'BA2220   500  ACARAU III\\n', 'LT 500  PECEM II / ACARAU III CL1\\n', 'LT 500  TIANGUA II / ACARAU III C1\\n', 'BA1110   500  TIANGUA II\\n', 'BA2220   500  TIANGUA II\\n', 'BA1      500  BACABEIRA\\n', 'BA2      500  BACABEIRA\\n', 'LT 500  BACABEIRA / PARNAIBA III C1\\n', 'LT 500  BACABEIRA / PARNAIBA III C2\\n', 'LT 500  PARNAIBA III / ACARAU III C1\\n', 'LT 500  PARNAIBA III / BACABEIRA C1\\n', 'LT 500  PARNAIBA III / BACABEIRA C2\\n', 'BA1110   500  PARNAIBA III\\n', 'BA2220   500  PARNAIBA III\\n', 'LT 500  TIANGUA II / PARNAIBA III C1\\n', 'LT 230  BAR.COQUEIROS / ITAGUACU C1\\n', 'LT 230  ITAGUACU / BAR.COQUEIROS C1\\n', 'LT 500  ITAGUACU / SAO SIMAO-SE C1\\n', 'LT 230  ENCRUZO NOVO / MIRANDA II C1\\n', 'LT 230  MIRANDA II / ENCRUZO NOVO C1\\n', 'LT 500  B.DESPACHO 3 / SAO GOTARDO 2 C2\\n', 'LT 500  EMBORCACAO / NOVA PONTE C2\\n', 'LT 500  ESTREITO / NOVA PONTE C1\\n', 'LT 500  NOVA PONTE / SAO GOTARDO 2 C1\\n', 'LT 500  NOVA PONTE / ESTREITO C1\\n', 'LT 500  NOVA PONTE / ITUMBIARA C1\\n', 'LT 500  NOVA PONTE / EMBORCACAO C2\\n', 'LT 500  SAO GOTARDO 2 / NOVA PONTE C1\\n', 'LT 500  SAO GOTARDO 2 / B.DESPACHO 3 C2\\n', 'LT 500  SAO SIMAO-SE / ITAGUACU C1\\n', 'LT 500  ITUMBIARA / NOVA PONTE C1\\n', 'LT 230  JAURU / VILHENA C1\\n', 'LT 230  JAURU / VILHENA C2\\n', 'LT 500  TUCURUI / VILA DO CONDE C3\\n', 'LT 500  VILA DO CONDE / TUCURUI C3\\n', 'LT 500  PARNAIBA III / TIANGUA II C1\\n', 'BAA      138  VENDA PEDRAS\\n', 'BAB      138  VENDA PEDRAS\\n', 'BAA      345  VENDA PEDRAS\\n', 'BAB      345  VENDA PEDRAS\\n', 'LT 230  ARIQUEMES / SAMUEL C2\\n', 'LT 230  ARIQUEMES / JI-PARANA C2\\n', 'LT 230  JI-PARANA / ARIQUEMES C2\\n', 'LT 230  JI-PARANA / PIMENTA BUENO C2\\n', 'LT 230  PIMENTA BUENO / JI-PARANA C2\\n', 'LT 230  PIMENTA BUENO / VILHENA C2\\n', 'LT 230  SAMUEL / ARIQUEMES C2\\n', 'LT 230  VILHENA / JAURU C1\\n', 'LT 230  VILHENA / JAURU C2\\n', 'LT 230  VILHENA / PIMENTA BUENO C2\\n', 'LT 500  LORENA / C. PAULISTA C1\\n', 'LT 500  LORENA / TIJUCO PRETO C1\\n', 'LT 500  C. PAULISTA / LORENA C1\\n', 'LT 500  TIJUCO PRETO / LORENA C1\\n', 'LT 500  P. AFONSO IV_SE / ANGELIM II CL6\\n', 'LT 500  P. AFONSO IV_SE / OLINDINA CS5\\n', 'LT 500  P. AFONSO IV_SE / USINA XINGO CV6\\n', 'LT 500  P. AFONSO IV_SE / US. L.GONZAGA CC1\\n', 'BAB1     500  P. AFONSO IV_SE\\n', 'BAB2     500  P. AFONSO IV_SE\\n', 'LT 500  FORTALEZA II / PECEM II CC2\\n', 'LT 500  FORTALEZA II / QUIXADA CV5\\n', 'BAB1     500  FORTALEZA II\\n', 'BAB12     500  FORTALEZA II\\n', 'LT 500  FORTALEZA II / PECEM II CC1\\n', 'LT 500  TIANGUA II / SOBRAL III CV5\\n', 'LT 500  TIANGUA II / TERESINA II CV9\\n', 'LT 500  BATEIAS / ITATIBA C1\\n', 'LT 525  BATEIAS / AREIA C1\\n', 'LT 525  BATEIAS / CURITIBA C1\\n', 'LT 525  CURIT.LESTE / BLUMENAU C1\\n', 'LT 525  CASCAVEL OEST / F.IGUACU 60HZ C1\\n', 'LT 525  CASCAVEL OEST / F.IGUACU 60HZ C1\\n', 'LT 525  CASCAVEL OEST / IVAIPORA ELS C1\\n', 'LT 525  CASCAVEL OEST / SALTO CAXIAS C1\\n', 'LT 525  IVAIPORA ELS / LONDRINA ESU C2\\n', 'LT 525  LONDRINA ESU / ASSIS C2\\n', 'LT 525  SALTO CAXIAS / CASCAVEL OEST C1\\n', 'LT 525  SALTO CAXIAS / S.SANTIAGO C1\\n', 'LT 525  SEGREDO / AREIA C1\\n', 'LT 525  SEGREDO / S.SANTIAGO C1\\n', 'LT 525  S.SANTIAGO / SALTO CAXIAS C1\\n', 'LT 525  F.IGUACU 60HZ / CASCAVEL OEST C1\\n', 'LT 525  F.IGUACU 60HZ / CASCAVEL OEST C1\\n', 'LT 525  BLUMENAU / CURIT.LESTE C1\\n', 'LT 525  ASSIS / LONDRINA ESU C2\\n', 'LT 440  AGUA VERMELHA / RIBEIRAOPRETO C1\\n', 'LT 440  AGUA VERMELHA / ILHA SOLTEIRA C1\\n', 'LT 440  AGUA VERMELHA / ARARAQUARA CTP C1\\n', 'LT 440  ALTA PAULISTA / TAQUARUCU C1\\n', 'SPALP_440_LTSPMRD_1\\n', 'BA1      440  ALTA PAULISTA\\n', 'BA2      440  ALTA PAULISTA\\n', 'LT 440  AGUA AZUL / SANTO ANGELO C1\\n', 'LT 440  AGUA AZUL / BOM JARDIM C1\\n', 'LT 440  BAGUACU / ILHA SOLTEIRA C1\\n', 'LT 440  BAGUACU / ILHA SOLTEIRA C2\\n', 'LT 440  BAGUACU / BAURU C1\\n', 'LT 440  BAGUACU / BAURU C2\\n', 'BA1      440  BAGUACU\\n', 'BA2      440  BAGUACU\\n', 'LT 440  BRACELL / BAURU C1\\n', 'LT 440  BRACELL / OESTE C1\\n', 'BA1      440  BRACELL\\n', 'BA2      440  BRACELL\\n', 'LT 440  CABREUVA / SALTO C1\\n', 'LT 440  CABREUVA / GERDAU SP C1\\n', 'LT 440  CABREUVA / BAURU C1\\n', 'LT 440  CABREUVA / BOM JARDIM C1\\n', 'LT 230  ROSANA / N.P.PRIMAVERA C1\\n', 'LT 230  ROSANA / N.P.PRIMAVERA C2\\n', 'BA1      230  ROSANA\\n', 'BA2      230  ROSANA\\n', 'LT 525  AREIA / BATEIAS C1\\n', 'LT 525  AREIA / IVAIPORA ELS C1\\n', 'BAA      525  AREIA\\n', 'LT 525  AREIA / C.NOVOS C1\\n', 'LT 525  AREIA / SEGREDO C1\\n', 'BAB      525  AREIA\\n', 'LT 525  AREIA / BENTO MUNHOZ C1\\n', 'LT 525  AREIA / BENTO MUNHOZ C2\\n', 'LT 525  AREIA / CURITIBA C1\\n', 'LT 525  IVAIPORA ELS / IVAIPORA FUR C2\\n', 'BAA1      525  IVAIPORA ELS\\n', 'LT 525  IVAIPORA ELS / IVAIPORA FUR C3\\n', 'LT 525  IVAIPORA ELS / LONDRINA ESU C1\\n', 'BAB1      525  IVAIPORA ELS\\n', 'LT 525  IVAIPORA ELS / S.SANTIAGO C1\\n', 'LT 525  IVAIPORA ELS / S.SANTIAGO C2\\n', 'LT 525  IVAIPORA ELS / IVAIPORA FUR C1\\n', 'LT 525  IVAIPORA ELS / AREIA C1\\n', 'LT 525  IVAIPORA ELS / CASCAVEL OEST C1\\n', 'LT 525  IVAIPORA ELS / LONDRINA ESU C2\\n', 'BAA      525  IVAIPORA ELS\\n', 'BAB      525  IVAIPORA ELS\\n', 'LT 525  NOVA STA RITA / ITA C1\\n', 'LT 525  NOVA STA RITA / GRAVATAI C1\\n', 'BAA1      525  NOVA STA RITA\\n', 'LT 525  NOVA STA RITA / C.NOVOS C1\\n', 'BAB1      525  NOVA STA RITA\\n', 'LT 525  NOVA STA RITA / ITA C2\\n', 'BAA      525  NOVA STA RITA\\n', 'BAB      525  NOVA STA RITA\\n', 'LT 525  C.NOVOS / AREIA C1\\n', 'LT 525  C.NOVOS / ABDON BATISTA C1\\n', 'BAA      525  C.NOVOS\\n', 'LT 525  C.NOVOS / NOVA STA RITA C1\\n', 'LT 525  C.NOVOS / MACHADINHO C1\\n', 'LT 525  C.NOVOS / CAXIAS C1\\n', 'BAB      525  C.NOVOS\\n', 'LT 525  ITA / CAXIAS C1\\n', 'LT 525  ITA / S.SANTIAGO C1\\n', 'BAA1      525  ITA\\n', 'LT 525  ITA / MACHADINHO C1\\n', 'LT 525  ITA / NOVA STA RITA C1\\n', 'BAB1      525  ITA\\n', 'LT 525  ITA / S.SANTIAGO C2\\n', 'LT 525  ITA / NOVA STA RITA C2\\n', 'BAA      525  ITA\\n', 'BAB      525  ITA\\n', 'LT 500  IMPERATRIZ / P.DUTRA C1\\n', 'LT 500  IMPERATRIZ / MARABA C1\\n', 'LT 500  IMPERATRIZ / MARABA C2\\n', 'LT 500  IMPERATRIZ / COLINAS C1\\n', 'BA1      500  IMPERATRIZ\\n', 'BA2      500  IMPERATRIZ\\n', 'LT 500  IMPERATRIZ / P.DUTRA C2\\n', 'LT 500  P.DUTRA / MIRANDA II C2\\n', 'LT 500  P.DUTRA / S.ANTON LOPES C1\\n', 'LT 500  P.DUTRA / IMPERATRIZ C1\\n', 'BA1      500  P.DUTRA\\n', 'BA2      500  P.DUTRA\\n', 'LT 500  P.DUTRA / B. ESPERANCA C1\\n', 'LT 500  P.DUTRA / TERESINA II CC8\\n', 'LT 500  P.DUTRA / IMPERATRIZ C2\\n', 'LT 500  P.DUTRA / TERESINA II CC9\\n', 'LT 230  JAURU / VARZ.GRANDE 2 C1\\n', 'LT 230  JAURU / VARZ.GRANDE 2 C2\\n', 'BA1      230  JAURU\\n', 'BA2      230  JAURU\\n', 'LT 500  TUCURUI / MARABA C1\\n', 'LT 500  TUCURUI / MARABA C2\\n', 'BA1      500  TUCURUI\\n', 'BA2      500  TUCURUI\\n', 'LT 500  TUCURUI / VILA DO CONDE C1\\n', 'BA3      500  TUCURUI\\n', 'BA4      500  TUCURUI\\n', 'LT 230  PORTO VELHO / ABUNA C2\\n', 'LT 230  PORTO VELHO / SAMUEL C1\\n', 'LT 230  PORTO VELHO / ABUNA C1\\n', 'LT 230  PORTO VELHO / SAMUEL C2\\n', 'LT 230  PORTO VELHO / C.PORTO VELHO C1\\n', 'LT 230  PORTO VELHO / C.PORTO VELHO C2\\n', 'BA1      230  PORTO VELHO\\n', 'BA2      230  PORTO VELHO\\n', 'LT 230  SAMUEL / ARIQUEMES C1\\n', 'LT 230  SAMUEL / PORTO VELHO C1\\n', 'LT 230  SAMUEL / PORTO VELHO C2\\n', 'BA1      230  SAMUEL\\n', 'BA2      230  SAMUEL\\n', 'LT 230  SAMUEL / PORTO VELHO C3\\n', 'LT 230  SAMUEL / ARIQUEMES C3\\n', 'LT 500  COLINAS / IMPERATRIZ C1\\n', 'LT 500  COLINAS / MIRACEMA C1\\n', 'BA1      500  COLINAS\\n', 'BA2      500  COLINAS\\n', 'LT 500  BARREIRAS II / BURITIRAMA CN6\\n', 'LT 500  BARREIRAS II / RIO DAS EGUAS CN5\\n', 'LT 500  BURITIRAMA / BARREIRAS II CN6\\n', 'BAB1     500  BURITIRAMA\\n', 'BAB2     500  BURITIRAMA\\n', 'LT 500  BURITIRAMA / QUEIMADA NOVA 2 CL2\\n', 'LT 500  IGAPORA III / JANAUBA 3 CL6\\n', 'LT 500  IGAPORA III / JANAUBA 3 CL7\\n', 'LT 500  RIO DAS EGUAS / BARREIRAS II CN5\\n', 'BAA      500  JANAUBA 3\\n', 'BAB      500  JANAUBA 3\\n', 'LT 500  JANAUBA 3 / IGAPORA III CL6\\n', 'LT 500  JANAUBA 3 / IGAPORA III CL7\\n', 'LT 500  JANAUBA 3 / P. JUSCELINO C1\\n', 'LT 500  JANAUBA 3 / P. JUSCELINO C2\\n', 'LT 500  P. JUSCELINO / JANAUBA 3 C1\\n', 'LT 500  P. JUSCELINO / JANAUBA 3 C2\\n', 'LT 500  MARITUBA / VILA DO CONDE C1\\n', 'BA1      500  MARITUBA\\n', 'BA2      500  MARITUBA\\n', 'LT 500  VILA DO CONDE / MARITUBA C1\\n', 'LT 500  QUEIMADA NOVA 2 / BURITIRAMA CL2\\n', 'LT 500  COLINAS / MIRACEMA C3\\n', 'LT 500  BOM.JES.LAPA II / SOL DO SERTAO C1\\n', 'LT 500  GENTIO OURO II / SOL DO SERTAO C1\\n', 'LT 500  JUAZEIRO III / OUROLANDIA II CF1\\n', 'LT 500  OUROLANDIA II / JUAZEIRO III CF1\\n', 'BAB1     500  SOL DO SERTAO\\n', 'BAB2     500  SOL DO SERTAO\\n', 'LT 500  SOL DO SERTAO / GENTIO OURO II C1\\n', 'LT 500  SOL DO SERTAO / BOM.JES.LAPA II C1\\n', 'BA601    345  RIO NOVO SUL\\n', 'LT 500  LECHUGA / SILVES C1\\n', 'LT 500  LECHUGA / SILVES C2\\n', 'BA1      500  LECHUGA\\n', 'BA2      500  LECHUGA\\n', 'LT 525  BATEIAS / CURITIBA C2\\n', 'LT 345  RIO NOVO SUL / VITORIA C1\\n', 'LT 345  RIO NOVO SUL / VIANA C1\\n', 'LT 345  RIO NOVO SUL / CAMPOS C2\\n', 'LT 345  RIO NOVO SUL / CAMPOS C1\\n', 'LT 500  S.DA MESA / SAMAMBAIA C1\\n', 'BAA1     500  S.DA MESA\\n', 'LT 500  S.DA MESA / SAMAMBAIA C2\\n', 'BAB1     500  S.DA MESA\\n', 'LT 500  S.DA MESA / GURUPI C1\\n', 'LT 345  OURO PRETO 2 / BARRO BRANCO C1\\n', 'BA2      345  OURO PRETO 2\\n', 'LT 500  ITUMBIARA / SAO SIMAO-SE C1\\n', 'LT 500  ITUMBIARA / EMBORCACAO C1\\n', 'BAB1     525  BATEIAS\\n', 'LT 500  BATEIAS / IBIUNA C2\\n', 'BAB2     525  BATEIAS\\n', 'LT 500  BATEIAS / IBIUNA C1\\n', 'LT 765  F.IGUACU 60HZ / IVAIPORA FUR C1\\n', 'BAA      765  F.IGUACU 60HZ\\n', 'LT 765  F.IGUACU 60HZ / IVAIPORA FUR C2\\n', 'BAB      765  F.IGUACU 60HZ\\n', 'LT 765  F.IGUACU 60HZ / IVAIPORA FUR C3\\n', 'LT 765  IVAIPORA FUR / F.IGUACU 60HZ C1\\n', 'BAA      765  IVAIPORA FUR\\n', 'LT 765  IVAIPORA FUR / F.IGUACU 60HZ C2\\n', 'BAB      765  IVAIPORA FUR\\n', 'LT 765  IVAIPORA FUR / F.IGUACU 60HZ C3\\n', 'LT 765  IVAIPORA FUR / ITABERA C1\\n', 'LT 765  IVAIPORA FUR / ITABERA C2\\n', 'LT 765  IVAIPORA FUR / ITABERA C3\\n', 'LT 500  ANGRA FUR / C. PAULISTA C1\\n', 'LT 500  ANGRA FUR / NOVA IGUACU C1\\n', 'LT 500  ANGRA FUR / ZONA OESTE C1\\n', 'LT 500  C. PAULISTA / ANGRA FUR C1\\n', 'SPSTCH_500_LTSPSTCA_1\\n', 'LT 500  C. PAULISTA / ITAJUBA 3 C1\\n', 'SPSTCH_500_LTRJSTAD_1\\n', 'LT 500  C. PAULISTA / B. FLUMINENSE C1\\n', 'LT 500  C. PAULISTA / RESENDE C1\\n', 'LT 500  C. PAULISTA / TAUBATE C1\\n', 'LT 500  C. PAULISTA / TIJUCO PRETO C1\\n', 'LT 765  ITABERA / IVAIPORA FUR C1\\n', 'BAA      765  ITABERA\\n', 'LT 765  ITABERA / IVAIPORA FUR C2\\n', 'BAB      765  ITABERA\\n', 'LT 765  ITABERA / IVAIPORA FUR C3\\n', 'LT 765  ITABERA / TIJUCO PRETO C1\\n', 'LT 765  ITABERA / TIJUCO PRETO C2\\n', 'LT 765  ITABERA / TIJUCO PRETO C3\\n', 'LT 500  IBIUNA / BATEIAS C1\\n', 'BAA      500  IBIUNA\\n', 'LT 500  IBIUNA / BATEIAS C2\\n', 'BAB      500  IBIUNA\\n', 'LT 500  IBIUNA / ITATIBA C1\\n', 'LT 765  TIJUCO PRETO / ITABERA C1\\n', 'BAA      765  TIJUCO PRETO\\n', 'LT 765  TIJUCO PRETO / ITABERA C2\\n', 'BAB      765  TIJUCO PRETO\\n', 'LT 765  TIJUCO PRETO / ITABERA C3\\n', 'LT 500  BOM.JES.LAPA II / JANAUBA 3 CL4\\n', 'LT 500  JANAUBA 3 / PIRAPORA 2 C1\\n', 'LT 500  JANAUBA 3 / BOM.JES.LAPA II CL4\\n', 'LT 500  PIRAPORA 2 / JANAUBA 3 C1 \\n', 'LT 500  USINA XINGO / JARDIM CV8\\n', 'LT 500  P. AFONSO IV_SE / US. L.GONZAGA CC2\\n', 'LT 500  US. L.GONZAGA / P. AFONSO IV_SE CC2\\n', 'LT 500  JARDIM / USINA XINGO CV8\\n', 'LT 500  TUCURUI / XINGU C1\\n', 'LT 500  TUCURUI / XINGU C2\\n', 'LT 500  C.GRANDE III / SANTA LUZIA II CZ6\\n', 'BAB1     500  SANTA LUZIA II\\n', 'BAB2     500  SANTA LUZIA II\\n', 'LT 500  SANTA LUZIA II / MILAGRES II CC5\\n', 'LT 500  SANTA LUZIA II / C.GRANDE III CZ6\\n', 'UFPA-PMU_Belem_PA\\n', 'UNIFEI-PMU_Itajuba_MG\\n', 'UNB-PMU_Brasilia_DF\\n', 'UFRJ-COPPE-PMU_Rio_de_Janeiro_RJ\\n', 'UFC-PMU_Fortaleza_CE\\n', 'USP_SC-PMU_Sao_Carlos_SP\\n', 'UTFPR-PMU_Curitiba_PR\\n', 'UFSC-PMU_Florianopolis_SC\\n', 'UNIR-PMU_Porto_Velho_RO\\n', 'UFMT-PMU_Cuiaba_MT\\n', 'UNIPAMPA-PMU_Alegrete_RS\\n', 'UFMG-PMU_Belo_Horizonte_MG\\n', 'UFMS-PMU_Campo_Grande_MS\\n', 'UFPE-PMU_Recife_PE\\n', 'UFT-PMU_Palmas_TO\\n', 'UFMA-PMU_Sao_Luiz_MA\\n', 'UFJF-PMU_Juiz_de_Fora_MG\\n', 'UFBA-PMU_Salvador_BA\\n', 'UFRGS-PMU_Porto_Alegre_RS\\n', 'UFAC-PMU_Rio_Branco_AC\\n', 'UFAM-PMU_Manaus_AM\\n', 'UNIFAP-PMU_Macapa_AP\\n', 'UFRR-PMU_Boa_Vista_RR\\n', 'UFES-PMU_Vitoria_ES\\n', 'UNICAMP-PMU_Campinas_SP\\n', 'UFPI-PMU_Teresina_PI\\n', 'LT 500  POCOES III / PE. PARAISO 2 C2\\n', 'LT 500  MILAGRES II / QUEIMADA NOVA 2 CC3\\n', 'LT 500  QUEIMADA NOVA 2 / MILAGRES II CC3\\n', 'LT 500  SE CUIABA / JAURU C2\\n', 'LT 500  JAURU / SE CUIABA C2\\n', 'LT 500  JAGUARA-SE / ESTREITO C1\\n', 'LT 500  ITUMBIARA / MARIMBONDO C1\\n', 'LT 500  ITUMBIARA / R.VERDE NORTE C1\\n', 'LT 500  ITUMBIARA / SAMAMBAIA C1\\n', 'BAB 500  ITUMBIARA - USIM\\n', 'BAB 500  ITUMBIARA - RVN\\n', 'BAB 500  ITUMBIARA - STSB\\n', 'BABP1    440  IL.SOLTEIRA 2\\n', 'BABP2    230  IL.SOLTEIRA 2\\n', 'LT 500  CLAUDIA / PARANAITA C3\\n', 'LT 500  CLAUDIA / PARANATINGA C3\\n', 'LT 500  PARANATINGA / CLAUDIA C3\\n', 'LT 500  PARANATINGA / RIBEIRAOZINHO C3\\n', 'LT 500  PARANAITA / CLAUDIA C3\\n', 'LT 440  ILHA SOLTEIRA / IL.SOLTEIRA 2 C1\\n', 'LT 440  ILHA SOLTEIRA / IL.SOLTEIRA 2 C2\\n', 'BA2      500  JAGUARA-SE\\n', 'BA1      500  CLAUDIA\\n', 'BA01     500  PARANATINGA\\n', 'BA01     500  PARANAITA\\n', 'LT 500  RIBEIRAOZINHO / PARANATINGA C3\\n', 'BA1      440  ILHA SOLTEIRA\\n', 'BA2      440  ILHA SOLTEIRA\\n', 'BAA5     500  ITUMBIARA\\n', 'BA1      500  RIBEIRAOZINHO\\n', 'LT 500  SAMAMBAIA / S.DA MESA C3\\n', 'LT 500  S.DA MESA / GURUPI C2\\n', 'LT 500  S.DA MESA / SAMAMBAIA C3\\n', 'LT 500  S.DA MESA / SERRA MESA 2 C1\\n', 'LT 500  IMPERATRIZ / COLINAS C2\\n', 'LT 230  JAURU / JUBA C1\\n', 'LT 230  JAURU / JUBA C2\\n', 'LT 500  COLINAS / ITACAIUNAS C1\\n', 'LT 500  COLINAS / IMPERATRIZ C2\\n', 'LT 500  COLINAS / MIRACEMA C2\\n', 'LT 500  COLINAS / RIB.GONCALVES C1\\n', 'LT 500  SE LAJEADO / MIRACEMA C2\\n', 'LT 500  SE LAJEADO / MIRACEMA C1\\n', 'LT 500  MIRACEMA / COLINAS C2\\n', 'LT 500  MIRACEMA / GURUPI C2\\n', 'LT 500  MIRACEMA / SE LAJEADO C1\\n', 'LT 500  MIRACEMA / SE LAJEADO C2\\n', 'LT 500  GURUPI / MIRACEMA C2\\n', 'LT 500  GURUPI / S.DA MESA C2\\n', 'LT 500  IBICOARA / POCOES III CL5\\n', 'LT 500  POCOES III / IBICOARA CL5\\n', 'BAB1     500  POCOES III\\n', 'BAB2     500  POCOES III\\n', 'LT 500  IMPERATRIZ / ACAILANDIA C1\\n', 'LT 500  P.DUTRA / ACAILANDIA C1\\n', 'LT 500  TUCURUI / MARABA C4\\n', 'LT 500  TUCURUI / VILA DO CONDE C2\\n', 'LT 500  TUCURUI / MARABA C3\\n', 'LT 525  C.NOVOS / MACHADINHO C2\\n', 'LT 525  C.NOVOS / BLUMENAU C1\\n', 'BA1      500  RIO NOVO SUL\\n', 'BA2      500  RIO NOVO SUL\\n', 'LT 500  RIO NOVO SUL / MUTUM C1\\n', 'LT 500  G.VALADARES 6 / MUTUM C1\\n', 'BA1      500  MUTUM\\n', 'BA2      500  MUTUM\\n', 'LT 500  MUTUM / RIO NOVO SUL C1\\n', 'LT 500  MUTUM / G.VALADARES 6 C1\\n', 'LT 500  RIO DAS EGUAS / ARINOS 2 CN4\\n', 'LT 500  ARINOS 2 / PIRAPORA 2 C1\\n', 'LT 500  ARINOS 2 / RIO DAS EGUAS CN4\\n', 'BA1      500  ARINOS 2\\n', 'BA2      500  ARINOS 2\\n', 'LT 500  PIRAPORA 2 / ARINOS 2 C1\\n', 'BA1      440  AGUA AZUL\\n', 'BA2      440  AGUA AZUL']\n"
     ]
    }
   ],
   "source": [
    "print(excel)"
   ]
  },
  {
   "cell_type": "code",
   "execution_count": 9,
   "id": "20784cd6",
   "metadata": {},
   "outputs": [
    {
     "name": "stdout",
     "output_type": "stream",
     "text": [
      "[['0', '0', '0', '1', '1', '0', '0', '1', '1', '1', '1', '0', '0', '0', '0', '0', '1', '1', '0', '0', '0', '0', '0', '0', '0', '0', '0', '0', '0', '0', '0', '0', '0', '0', '0', '0', '0', '0', '0', '0', '1', '1', '1', '1', '0', '0', '0', '0', '0', '0', '0', '0', '0', '0', '0', '0', '0', '0', '0', '0', '0', '0', '1', '1', '0', '0', '1', '1', '0', '0', '0', '0', '0', '0', '0', '0', '0', '0', '0', '0', '0', '0', '0', '0', '0', '0', '0', '0', '0', '0', '0', '0', '0', '0', '1', '1', '1', '0', '0', '0', '0', '0', '0', '1', '1', '0', '0', '1', '1', '0', '0', '0', '0', '0', '0', '1', '1', '0', '0', '1', '0', '0', '1', '0', '0', '0', '0', '1', '0', '0', '1', '0', '0', '0', '0', '0', '0', '1', '1', '0', '0', '1', '0', '1', '0', '1', '1', '0', '0', '1', '0', '0', '0', '1', '0', '0', '1', '0', '0', '1', '0', '0', '1', '1', '0', '0', '0', '0', '1', '1', '0', '0', '0', '0', '1', '1', '0', '0', '0', '0', '0', '0', '1', '1', '0', '0', '1', '1', '0', '0', '0', '0', '0', '0', '0', '0', '0', '1', '1', '0', '0', '0', '1', '1', '0', '0', '0', '0', '1', '1', '0', '0', '0', '1', '1', '0', '0', '0', '0', '1', '1', '0', '0', '0', '0', '0', '0', '0', '1', '1', '0', '0', '0', '0', '0', '0', '0', '0', '0', '0', '0', '1', '0', '0', '1', '1', '0', '0', '0', '0', '0', '0', '1', '0', '1', '0', '0', '1', '0', '0', '1', '0', '1', '0', '0', '1', '0', '1', '0', '0', '0', '0', '1', '0', '0', '0', '0', '0', '0', '0', '0', '1', '0', '1', '0', '0', '0', '0', '0', '1', '0', '1', '0', '0', '0', '0', '0', '1', '0', '1', '0', '0', '1', '0', '1', '0', '0', '0', '0', '0', '0', '0', '0', '0', '0', '0', '0', '1', '1', '0', '0', '1', '1', '1', '1', '1', '1', '1', '1', '1', '1', '1', '1', '1', '1', '1', '1', '1', '1', '1', '1', '1', '1', '1', '1', '1', '1', '0', '0', '0', '0', '0', '0', '0', '0', '0', '0', '1', '1', '0', '0', '0', '0', '0', '0', '0', '0', '0', '1', '1', '1', '1', '0', '1', '1', '1', '1', '0', '0', '0', '0', '0', '0', '0', '0', '0', '0', '0', '0', '0', '0', '0', '0', '0', '0', '0', '0', '0', '1', '1', '0', '0', '0', '0', '0', '0', '0', '1', '1', '0', '0', '1', '1', '0', '0', '0', '0', '0', '1', '1', '0', '1', '1'], []]\n"
     ]
    },
    {
     "data": {
      "text/plain": [
       "423"
      ]
     },
     "execution_count": 9,
     "metadata": {},
     "output_type": "execute_result"
    }
   ],
   "source": [
    "resultados= [[],[]]\n",
    "for x in range(len(excel)):\n",
    "    a= re.split(r'\\n',excel[x])\n",
    "    a= a[0]\n",
    "    if a in fluxos:\n",
    "        resultado= '1'\n",
    "    else:\n",
    "        resultado= '0'\n",
    "    resultados[0].append(resultado)\n",
    "print(resultados)\n",
    "len(resultados[0])"
   ]
  },
  {
   "cell_type": "code",
   "execution_count": 10,
   "id": "d0244468",
   "metadata": {},
   "outputs": [],
   "source": [
    "excel_trocado= []\n",
    "for i in range(len(excel)):\n",
    "    excel[i]= re.split(r'\\n',excel[i])\n",
    "    excel[i]= excel[i][0]\n",
    "    troca= excel[i].replace('/','-')\n",
    "    excel_trocado.append(troca)"
   ]
  },
  {
   "cell_type": "code",
   "execution_count": 11,
   "id": "97f8b990",
   "metadata": {
    "scrolled": false
   },
   "outputs": [
    {
     "name": "stdout",
     "output_type": "stream",
     "text": [
      "[['0', '0', '0', '1', '1', '0', '0', '1', '1', '1', '1', '0', '0', '0', '0', '0', '1', '1', '0', '0', '0', '0', '0', '0', '0', '0', '0', '0', '0', '0', '0', '0', '0', '0', '0', '0', '0', '0', '0', '0', '1', '1', '1', '1', '0', '0', '0', '0', '0', '0', '0', '0', '0', '0', '0', '0', '0', '0', '0', '0', '0', '0', '1', '1', '0', '0', '1', '1', '0', '0', '0', '0', '0', '0', '0', '0', '0', '0', '0', '0', '0', '0', '0', '0', '0', '0', '0', '0', '0', '0', '0', '0', '0', '0', '1', '1', '1', '0', '0', '0', '0', '0', '0', '1', '1', '0', '0', '1', '1', '0', '0', '0', '0', '0', '0', '1', '1', '0', '0', '1', '0', '0', '1', '0', '0', '0', '0', '1', '0', '0', '1', '0', '0', '0', '0', '0', '0', '1', '1', '0', '0', '1', '0', '1', '0', '1', '1', '0', '0', '1', '0', '0', '0', '1', '0', '0', '1', '0', '0', '1', '0', '0', '1', '1', '0', '0', '0', '0', '1', '1', '0', '0', '0', '0', '1', '1', '0', '0', '0', '0', '0', '0', '1', '1', '0', '0', '1', '1', '0', '0', '0', '0', '0', '0', '0', '0', '0', '1', '1', '0', '0', '0', '1', '1', '0', '0', '0', '0', '1', '1', '0', '0', '0', '1', '1', '0', '0', '0', '0', '1', '1', '0', '0', '0', '0', '0', '0', '0', '1', '1', '0', '0', '0', '0', '0', '0', '0', '0', '0', '0', '0', '1', '0', '0', '1', '1', '0', '0', '0', '0', '0', '0', '1', '0', '1', '0', '0', '1', '0', '0', '1', '0', '1', '0', '0', '1', '0', '1', '0', '0', '0', '0', '1', '0', '0', '0', '0', '0', '0', '0', '0', '1', '0', '1', '0', '0', '0', '0', '0', '1', '0', '1', '0', '0', '0', '0', '0', '1', '0', '1', '0', '0', '1', '0', '1', '0', '0', '0', '0', '0', '0', '0', '0', '0', '0', '0', '0', '1', '1', '0', '0', '1', '1', '1', '1', '1', '1', '1', '1', '1', '1', '1', '1', '1', '1', '1', '1', '1', '1', '1', '1', '1', '1', '1', '1', '1', '1', '0', '0', '0', '0', '0', '0', '0', '0', '0', '0', '1', '1', '0', '0', '0', '0', '0', '0', '0', '0', '0', '1', '1', '1', '1', '0', '1', '1', '1', '1', '0', '0', '0', '0', '0', '0', '0', '0', '0', '0', '0', '0', '0', '0', '0', '0', '0', '0', '0', '0', '0', '1', '1', '0', '0', '0', '0', '0', '0', '0', '1', '1', '0', '0', '1', '1', '0', '0', '0', '0', '0', '1', '1', '0', '1', '1'], ['1', '1', '1', '1', '1', '1', '1', '1', '1', '1', '1', '1', '1', '1', '1', '1', '1', '1', '1', '1', '1', '1', '1', '1', '1', '1', '1', '1', '1', '1', '1', '1', '1', '1', '1', '1', '1', '1', '1', '1', '1', '1', '1', '1', '1', '1', '1', '1', '1', '1', '1', '1', '1', '1', '0', '0', '0', '0', '1', '1', '1', '1', '1', '1', '1', '1', '1', '1', '1', '1', '1', '1', '0', '0', '1', '0', '0', '0', '0', '1', '1', '1', '1', '0', '0', '1', '0', '0', '1', '1', '1', '1', '1', '1', '1', '1', '1', '1', '1', '1', '1', '1', '1', '1', '1', '1', '1', '1', '1', '1', '1', '1', '1', '1', '1', '1', '1', '1', '1', '1', '1', '1', '1', '1', '1', '1', '1', '1', '1', '1', '1', '1', '1', '1', '1', '1', '1', '1', '1', '1', '1', '1', '1', '1', '1', '1', '1', '1', '1', '1', '1', '1', '1', '1', '1', '1', '1', '1', '1', '1', '1', '1', '1', '1', '1', '1', '1', '1', '1', '1', '0', '1', '1', '1', '1', '1', '1', '1', '1', '1', '1', '1', '1', '1', '1', '1', '1', '1', '0', '0', '0', '1', '1', '1', '1', '1', '1', '1', '1', '1', '1', '1', '1', '1', '0', '0', '1', '1', '1', '1', '1', '1', '1', '1', '1', '1', '1', '1', '1', '1', '1', '1', '0', '1', '1', '1', '1', '1', '1', '1', '1', '1', '1', '1', '1', '1', '1', '0', '0', '1', '1', '1', '1', '1', '1', '1', '0', '1', '1', '1', '1', '1', '1', '1', '1', '1', '1', '1', '1', '1', '1', '1', '1', '1', '1', '1', '1', '1', '1', '1', '0', '1', '1', '1', '1', '1', '1', '1', '1', '1', '1', '1', '1', '1', '1', '1', '1', '1', '1', '1', '1', '1', '1', '1', '1', '1', '1', '1', '1', '1', '1', '1', '1', '1', '1', '1', '1', '1', '1', '1', '1', '1', '1', '1', '1', '1', '1', '1', '1', '1', '1', '1', '1', '1', '1', '1', '1', '1', '1', '1', '1', '1', '1', '1', '1', '1', '1', '1', '1', '1', '1', '1', '1', '1', '1', '1', '1', '1', '1', '1', '1', '1', '1', '1', '1', '1', '0', '1', '1', '0', '0', '1', '1', '1', '1', '1', '1', '1', '1', '1', '1', '1', '1', '1', '1', '1', '1', '1', '1', '1', '1', '1', '1', '1', '1', '1', '1', '1', '1', '1', '1', '1', '1', '1', '1', '1', '1', '1', '1', '1', '1', '1', '1', '1', '1', '1', '1', '1', '1', '1', '1', '1', '1', '1', '1', '1', '1', '1', '1', '1', '1', '1', '1']]\n"
     ]
    }
   ],
   "source": [
    "for x in range(len(excel)):\n",
    "    a= excel_trocado[x]\n",
    "    if a in fluxos:\n",
    "        resultado= '1'\n",
    "    else:\n",
    "        resultado= '0'\n",
    "    resultados[1].append(resultado)\n",
    "print(resultados)"
   ]
  },
  {
   "cell_type": "code",
   "execution_count": 12,
   "id": "ced8652e",
   "metadata": {},
   "outputs": [
    {
     "name": "stdout",
     "output_type": "stream",
     "text": [
      "['1\\n', '1\\n', '1\\n', '1\\n', '1\\n', '1\\n', '1\\n', '1\\n', '1\\n', '1\\n', '1\\n', '1\\n', '1\\n', '1\\n', '1\\n', '1\\n', '1\\n', '1\\n', '1\\n', '1\\n', '1\\n', '1\\n', '1\\n', '1\\n', '1\\n', '1\\n', '1\\n', '1\\n', '1\\n', '1\\n', '1\\n', '1\\n', '1\\n', '1\\n', '1\\n', '1\\n', '1\\n', '1\\n', '1\\n', '1\\n', '1\\n', '1\\n', '1\\n', '1\\n', '1\\n', '1\\n', '1\\n', '1\\n', '1\\n', '1\\n', '1\\n', '1\\n', '1\\n', '1\\n', '0\\n', '0\\n', '0\\n', '0\\n', '1\\n', '1\\n', '1\\n', '1\\n', '1\\n', '1\\n', '1\\n', '1\\n', '1\\n', '1\\n', '1\\n', '1\\n', '1\\n', '1\\n', '0\\n', '0\\n', '1\\n', '0\\n', '0\\n', '0\\n', '0\\n', '1\\n', '1\\n', '1\\n', '1\\n', '0\\n', '0\\n', '1\\n', '0\\n', '0\\n', '1\\n', '1\\n', '1\\n', '1\\n', '1\\n', '1\\n', '1\\n', '1\\n', '1\\n', '1\\n', '1\\n', '1\\n', '1\\n', '1\\n', '1\\n', '1\\n', '1\\n', '1\\n', '1\\n', '1\\n', '1\\n', '1\\n', '1\\n', '1\\n', '1\\n', '1\\n', '1\\n', '1\\n', '1\\n', '1\\n', '1\\n', '1\\n', '1\\n', '1\\n', '1\\n', '1\\n', '1\\n', '1\\n', '1\\n', '1\\n', '1\\n', '1\\n', '1\\n', '1\\n', '1\\n', '1\\n', '1\\n', '1\\n', '1\\n', '1\\n', '1\\n', '1\\n', '1\\n', '1\\n', '1\\n', '1\\n', '1\\n', '1\\n', '1\\n', '1\\n', '1\\n', '1\\n', '1\\n', '1\\n', '1\\n', '1\\n', '1\\n', '1\\n', '1\\n', '1\\n', '1\\n', '1\\n', '1\\n', '1\\n', '1\\n', '1\\n', '1\\n', '1\\n', '1\\n', '1\\n', '1\\n', '1\\n', '0\\n', '1\\n', '1\\n', '1\\n', '1\\n', '1\\n', '1\\n', '1\\n', '1\\n', '1\\n', '1\\n', '1\\n', '1\\n', '1\\n', '1\\n', '1\\n', '1\\n', '1\\n', '0\\n', '0\\n', '0\\n', '1\\n', '1\\n', '1\\n', '1\\n', '1\\n', '1\\n', '1\\n', '1\\n', '1\\n', '1\\n', '1\\n', '1\\n', '1\\n', '0\\n', '0\\n', '1\\n', '1\\n', '1\\n', '1\\n', '1\\n', '1\\n', '1\\n', '1\\n', '1\\n', '1\\n', '1\\n', '1\\n', '1\\n', '1\\n', '1\\n', '1\\n', '0\\n', '1\\n', '1\\n', '1\\n', '1\\n', '1\\n', '1\\n', '1\\n', '1\\n', '1\\n', '1\\n', '1\\n', '1\\n', '1\\n', '1\\n', '0\\n', '0\\n', '1\\n', '1\\n', '1\\n', '1\\n', '1\\n', '1\\n', '1\\n', '0\\n', '1\\n', '1\\n', '1\\n', '1\\n', '1\\n', '1\\n', '1\\n', '1\\n', '1\\n', '1\\n', '1\\n', '1\\n', '1\\n', '1\\n', '1\\n', '1\\n', '1\\n', '1\\n', '1\\n', '1\\n', '1\\n', '1\\n', '1\\n', '0\\n', '1\\n', '1\\n', '1\\n', '1\\n', '1\\n', '1\\n', '1\\n', '1\\n', '1\\n', '1\\n', '1\\n', '1\\n', '1\\n', '1\\n', '1\\n', '1\\n', '1\\n', '1\\n', '1\\n', '1\\n', '1\\n', '1\\n', '1\\n', '1\\n', '1\\n', '1\\n', '1\\n', '1\\n', '1\\n', '1\\n', '1\\n', '1\\n', '1\\n', '1\\n', '1\\n', '1\\n', '1\\n', '1\\n', '1\\n', '1\\n', '1\\n', '1\\n', '1\\n', '1\\n', '1\\n', '1\\n', '1\\n', '1\\n', '1\\n', '1\\n', '1\\n', '1\\n', '1\\n', '1\\n', '1\\n', '1\\n', '1\\n', '1\\n', '1\\n', '1\\n', '1\\n', '1\\n', '1\\n', '1\\n', '1\\n', '1\\n', '1\\n', '1\\n', '1\\n', '1\\n', '1\\n', '1\\n', '1\\n', '1\\n', '1\\n', '1\\n', '1\\n', '1\\n', '1\\n', '1\\n', '1\\n', '1\\n', '1\\n', '1\\n', '1\\n', '0\\n', '1\\n', '1\\n', '0\\n', '0\\n', '1\\n', '1\\n', '1\\n', '1\\n', '1\\n', '1\\n', '1\\n', '1\\n', '1\\n', '1\\n', '1\\n', '1\\n', '1\\n', '1\\n', '1\\n', '1\\n', '1\\n', '1\\n', '1\\n', '1\\n', '1\\n', '1\\n', '1\\n', '1\\n', '1\\n', '1\\n', '1\\n', '1\\n', '1\\n', '1\\n', '1\\n', '1\\n', '1\\n', '1\\n', '1\\n', '1\\n', '1\\n', '1\\n', '1\\n', '1\\n', '1\\n', '1\\n', '1\\n', '1\\n', '1\\n', '1\\n', '1\\n', '1\\n', '1\\n', '1\\n', '1\\n', '1\\n', '1\\n', '1\\n', '1\\n', '1\\n', '1\\n', '1\\n', '1\\n', '1\\n', '1\\n', '1\\n']\n"
     ]
    }
   ],
   "source": [
    "novo = open(\"metadados_xml.txt\", \"a\")\n",
    "para_excel=[]\n",
    "for n in range(len(resultados[0])):\n",
    "    if resultados[0][n] == '1' or resultados[1][n] == '1':\n",
    "        checagem_final= '1\\n'\n",
    "        para_excel.append(checagem_final)\n",
    "    else:\n",
    "        checagem_final= '0\\n'\n",
    "        para_excel.append(checagem_final)\n",
    "    novo.write(checagem_final)\n",
    "print(para_excel)\n",
    "novo.close()"
   ]
  },
  {
   "cell_type": "code",
   "execution_count": 13,
   "id": "68cfe98a",
   "metadata": {},
   "outputs": [
    {
     "name": "stdout",
     "output_type": "stream",
     "text": [
      "423\n",
      "395\n"
     ]
    }
   ],
   "source": [
    "print(len(para_excel))\n",
    "print(para_excel.count('1\\n'))"
   ]
  },
  {
   "cell_type": "code",
   "execution_count": 14,
   "id": "356ccbe7",
   "metadata": {},
   "outputs": [],
   "source": [
    "arquivo.close()"
   ]
  },
  {
   "cell_type": "markdown",
   "id": "182e5796",
   "metadata": {},
   "source": [
    "# Checagem de repetidos\n"
   ]
  },
  {
   "cell_type": "code",
   "execution_count": 17,
   "id": "9bdcd29a",
   "metadata": {},
   "outputs": [
    {
     "name": "stdout",
     "output_type": "stream",
     "text": [
      "75 LT 525  CASCAVEL OEST / F.IGUACU 60HZ C1\n",
      "76 LT 525  CASCAVEL OEST / F.IGUACU 60HZ C1\n",
      "79 LT 525  IVAIPORA ELS / LONDRINA ESU C2\n",
      "86 LT 525  F.IGUACU 60HZ / CASCAVEL OEST C1\n",
      "87 LT 525  F.IGUACU 60HZ / CASCAVEL OEST C1\n",
      "136 LT 525  IVAIPORA ELS / LONDRINA ESU C2\n"
     ]
    }
   ],
   "source": [
    "for n in range(len(excel)):\n",
    "    a= excel.count(excel[n])\n",
    "    if a >= 2:\n",
    "        print(n, excel[n])       "
   ]
  },
  {
   "cell_type": "code",
   "execution_count": null,
   "id": "3ad88a53",
   "metadata": {},
   "outputs": [],
   "source": []
  }
 ],
 "metadata": {
  "kernelspec": {
   "display_name": "Python 3",
   "language": "python",
   "name": "python3"
  },
  "language_info": {
   "codemirror_mode": {
    "name": "ipython",
    "version": 3
   },
   "file_extension": ".py",
   "mimetype": "text/x-python",
   "name": "python",
   "nbconvert_exporter": "python",
   "pygments_lexer": "ipython3",
   "version": "3.8.8"
  }
 },
 "nbformat": 4,
 "nbformat_minor": 5
}
