{
 "cells": [
  {
   "cell_type": "markdown",
   "id": "baa68be1",
   "metadata": {},
   "source": [
    "# 1- Importe as bibliotecas pandas e matplotlib, usando a palavra mágica inline para exibir as visualizações no notebook; e carregue os dados, que estão disponibilizados."
   ]
  },
  {
   "cell_type": "code",
   "execution_count": 1,
   "id": "069665bc",
   "metadata": {},
   "outputs": [],
   "source": [
    "import pandas as pd\n",
    "import matplotlib.pyplot as plt\n",
    "import seaborn as sns\n",
    "%matplotlib inline"
   ]
  },
  {
   "cell_type": "code",
   "execution_count": 2,
   "id": "08859c6d",
   "metadata": {},
   "outputs": [
    {
     "data": {
      "text/html": [
       "<div>\n",
       "<style scoped>\n",
       "    .dataframe tbody tr th:only-of-type {\n",
       "        vertical-align: middle;\n",
       "    }\n",
       "\n",
       "    .dataframe tbody tr th {\n",
       "        vertical-align: top;\n",
       "    }\n",
       "\n",
       "    .dataframe thead th {\n",
       "        text-align: right;\n",
       "    }\n",
       "</style>\n",
       "<table border=\"1\" class=\"dataframe\">\n",
       "  <thead>\n",
       "    <tr style=\"text-align: right;\">\n",
       "      <th></th>\n",
       "      <th>Rank</th>\n",
       "      <th>Name</th>\n",
       "      <th>Platform</th>\n",
       "      <th>Year</th>\n",
       "      <th>Genre</th>\n",
       "      <th>Publisher</th>\n",
       "      <th>NA_Sales</th>\n",
       "      <th>EU_Sales</th>\n",
       "      <th>JP_Sales</th>\n",
       "      <th>Other_Sales</th>\n",
       "      <th>Global_Sales</th>\n",
       "    </tr>\n",
       "  </thead>\n",
       "  <tbody>\n",
       "    <tr>\n",
       "      <th>0</th>\n",
       "      <td>1</td>\n",
       "      <td>Wii Sports</td>\n",
       "      <td>Wii</td>\n",
       "      <td>2006.0</td>\n",
       "      <td>Sports</td>\n",
       "      <td>Nintendo</td>\n",
       "      <td>41.49</td>\n",
       "      <td>29.02</td>\n",
       "      <td>3.77</td>\n",
       "      <td>8.46</td>\n",
       "      <td>82.74</td>\n",
       "    </tr>\n",
       "    <tr>\n",
       "      <th>1</th>\n",
       "      <td>2</td>\n",
       "      <td>Super Mario Bros.</td>\n",
       "      <td>NES</td>\n",
       "      <td>1985.0</td>\n",
       "      <td>Platform</td>\n",
       "      <td>Nintendo</td>\n",
       "      <td>29.08</td>\n",
       "      <td>3.58</td>\n",
       "      <td>6.81</td>\n",
       "      <td>0.77</td>\n",
       "      <td>40.24</td>\n",
       "    </tr>\n",
       "    <tr>\n",
       "      <th>2</th>\n",
       "      <td>3</td>\n",
       "      <td>Mario Kart Wii</td>\n",
       "      <td>Wii</td>\n",
       "      <td>2008.0</td>\n",
       "      <td>Racing</td>\n",
       "      <td>Nintendo</td>\n",
       "      <td>15.85</td>\n",
       "      <td>12.88</td>\n",
       "      <td>3.79</td>\n",
       "      <td>3.31</td>\n",
       "      <td>35.82</td>\n",
       "    </tr>\n",
       "    <tr>\n",
       "      <th>3</th>\n",
       "      <td>4</td>\n",
       "      <td>Wii Sports Resort</td>\n",
       "      <td>Wii</td>\n",
       "      <td>2009.0</td>\n",
       "      <td>Sports</td>\n",
       "      <td>Nintendo</td>\n",
       "      <td>15.75</td>\n",
       "      <td>11.01</td>\n",
       "      <td>3.28</td>\n",
       "      <td>2.96</td>\n",
       "      <td>33.00</td>\n",
       "    </tr>\n",
       "    <tr>\n",
       "      <th>4</th>\n",
       "      <td>5</td>\n",
       "      <td>Pokemon Red/Pokemon Blue</td>\n",
       "      <td>GB</td>\n",
       "      <td>1996.0</td>\n",
       "      <td>Role-Playing</td>\n",
       "      <td>Nintendo</td>\n",
       "      <td>11.27</td>\n",
       "      <td>8.89</td>\n",
       "      <td>10.22</td>\n",
       "      <td>1.00</td>\n",
       "      <td>31.37</td>\n",
       "    </tr>\n",
       "  </tbody>\n",
       "</table>\n",
       "</div>"
      ],
      "text/plain": [
       "   Rank                      Name Platform    Year         Genre Publisher  \\\n",
       "0     1                Wii Sports      Wii  2006.0        Sports  Nintendo   \n",
       "1     2         Super Mario Bros.      NES  1985.0      Platform  Nintendo   \n",
       "2     3            Mario Kart Wii      Wii  2008.0        Racing  Nintendo   \n",
       "3     4         Wii Sports Resort      Wii  2009.0        Sports  Nintendo   \n",
       "4     5  Pokemon Red/Pokemon Blue       GB  1996.0  Role-Playing  Nintendo   \n",
       "\n",
       "   NA_Sales  EU_Sales  JP_Sales  Other_Sales  Global_Sales  \n",
       "0     41.49     29.02      3.77         8.46         82.74  \n",
       "1     29.08      3.58      6.81         0.77         40.24  \n",
       "2     15.85     12.88      3.79         3.31         35.82  \n",
       "3     15.75     11.01      3.28         2.96         33.00  \n",
       "4     11.27      8.89     10.22         1.00         31.37  "
      ]
     },
     "execution_count": 2,
     "metadata": {},
     "output_type": "execute_result"
    }
   ],
   "source": [
    "jogos_uri = 'https://d11s0xq1vqg039.cloudfront.net/videos_conteudo/visual/micro04/oficina/arquivos/dadosoficina04.txt'\n",
    "jogos= pd.read_csv(jogos_uri)\n",
    "jogos.head()"
   ]
  },
  {
   "cell_type": "markdown",
   "id": "4f4367c5",
   "metadata": {},
   "source": [
    "# 2- Crie uma visualização que mostre a proporção de vendas global entre gêneros de jogos da empresa Nintendo."
   ]
  },
  {
   "cell_type": "markdown",
   "id": "536b1bcb",
   "metadata": {},
   "source": [
    "Gerar um dataset que contenha apenas jogos da Nintendo;\n",
    "A partir do dataset criado, somar os valores por gênero e, após a soma, ordenar de forma crescente os valores de venda global;\n",
    "Gerar as porcentagens:100 (para dar o valor percentual)* (venda de cada gênero)/(venda total da Nintendo);\n",
    "Gerar o gráfico;\n",
    "Gráfico usado: barras, motivo: Muitas categorias para um de pizza."
   ]
  },
  {
   "cell_type": "code",
   "execution_count": 3,
   "id": "cb147048",
   "metadata": {},
   "outputs": [
    {
     "data": {
      "image/png": "[encoded data removed]",
      "text/plain": [
       "<Figure size 1080x360 with 1 Axes>"
      ]
     },
     "metadata": {},
     "output_type": "display_data"
    }
   ],
   "source": [
    "nintendo= jogos[jogos['Publisher']== 'Nintendo']\n",
    "nintendoGenre= nintendo.groupby(by='Genre').sum().sort_values(by= 'Global_Sales',ascending = False)\n",
    "porcentagens = nintendoGenre['Global_Sales']*100.0/nintendo['Global_Sales'].sum()\n",
    "plt.style.use('seaborn-darkgrid')\n",
    "plt.figure(figsize=(15,5))\n",
    "plt.bar(nintendoGenre.index,porcentagens)\n",
    "plt.xlabel('Gêneros')\n",
    "plt.ylabel('%')\n",
    "plt.title('Contribuição de vendas, por gênero, da Nintendo')\n",
    "plt.show()"
   ]
  },
  {
   "cell_type": "markdown",
   "id": "1b97d617",
   "metadata": {},
   "source": [
    "# 3- Crie uma visualização que mostre a proporção de quantidade de jogos por plataforma a partir do ano de 2015."
   ]
  },
  {
   "cell_type": "markdown",
   "id": "18ecbb13",
   "metadata": {},
   "source": [
    "Criar um dataset que tenha apenas jogos a partir de 2015;\n",
    "A partir do dataset criado, agrupar os jogos por plataforma e ordenar de forma decrescente por quantidade;\n",
    "Gerar as porcentagens:100 (para dar o valor percentual)* (quantidade por cada plataforma)/(todos os jogos do último dataset);\n",
    "Gerar o gráfico;\n",
    "Gráfico usado: barras, motivo: Muitas categorias para um de pizza."
   ]
  },
  {
   "cell_type": "code",
   "execution_count": 4,
   "id": "95fe1dbb",
   "metadata": {},
   "outputs": [
    {
     "data": {
      "image/png": "[encoded data removed]",
      "text/plain": [
       "<Figure size 1080x360 with 1 Axes>"
      ]
     },
     "metadata": {},
     "output_type": "display_data"
    }
   ],
   "source": [
    "jogos2015mais= jogos[jogos['Year']>= 2015]\n",
    "plataforma= jogos2015mais.groupby(by= 'Platform').count().sort_values(by= 'Rank',ascending = False)\n",
    "porcentagens= plataforma*100/plataforma['Rank'].sum()\n",
    "plt.style.use('seaborn-darkgrid')\n",
    "plt.figure(figsize=(15,5))\n",
    "plt.bar(plataforma.index,porcentagens['Rank'])\n",
    "plt.xlabel('Plataforma')\n",
    "plt.ylabel('%')\n",
    "plt.title('Contribuição de jogos por plataforma a partir de 2015')\n",
    "plt.show()"
   ]
  }
 ],
 "metadata": {
  "kernelspec": {
   "display_name": "Python 3",
   "language": "python",
   "name": "python3"
  },
  "language_info": {
   "codemirror_mode": {
    "name": "ipython",
    "version": 3
   },
   "file_extension": ".py",
   "mimetype": "text/x-python",
   "name": "python",
   "nbconvert_exporter": "python",
   "pygments_lexer": "ipython3",
   "version": "3.8.8"
  }
 },
 "nbformat": 4,
 "nbformat_minor": 5
}
