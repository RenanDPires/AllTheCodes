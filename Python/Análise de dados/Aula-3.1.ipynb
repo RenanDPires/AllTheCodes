{
 "cells": [
  {
   "cell_type": "markdown",
   "id": "049f5b75",
   "metadata": {},
   "source": [
    "# Trabalhando com histogramas"
   ]
  },
  {
   "cell_type": "markdown",
   "id": "4458bede",
   "metadata": {},
   "source": [
    "Utilizado para distribuição de variável quantitativa"
   ]
  },
  {
   "cell_type": "code",
   "execution_count": 1,
   "id": "20a00773",
   "metadata": {},
   "outputs": [],
   "source": [
    "import pandas as pd\n",
    "import matplotlib.pyplot as plt\n",
    "import seaborn as sns\n",
    "%matplotlib inline"
   ]
  },
  {
   "cell_type": "markdown",
   "id": "455f04c2",
   "metadata": {},
   "source": [
    "read_csv: método da biblioteca pandas\n",
    "área dos imóveis: atributo quantitativo"
   ]
  },
  {
   "cell_type": "code",
   "execution_count": 2,
   "id": "87faf0c8",
   "metadata": {},
   "outputs": [
    {
     "data": {
      "text/html": [
       "<div>\n",
       "<style scoped>\n",
       "    .dataframe tbody tr th:only-of-type {\n",
       "        vertical-align: middle;\n",
       "    }\n",
       "\n",
       "    .dataframe tbody tr th {\n",
       "        vertical-align: top;\n",
       "    }\n",
       "\n",
       "    .dataframe thead th {\n",
       "        text-align: right;\n",
       "    }\n",
       "</style>\n",
       "<table border=\"1\" class=\"dataframe\">\n",
       "  <thead>\n",
       "    <tr style=\"text-align: right;\">\n",
       "      <th></th>\n",
       "      <th>city</th>\n",
       "      <th>area</th>\n",
       "      <th>rooms</th>\n",
       "      <th>bathroom</th>\n",
       "      <th>parking spaces</th>\n",
       "      <th>floor</th>\n",
       "      <th>animal</th>\n",
       "      <th>furniture</th>\n",
       "      <th>hoa (R$)</th>\n",
       "      <th>rent amount (R$)</th>\n",
       "      <th>property tax (R$)</th>\n",
       "      <th>fire insurance (R$)</th>\n",
       "      <th>total (R$)</th>\n",
       "    </tr>\n",
       "  </thead>\n",
       "  <tbody>\n",
       "    <tr>\n",
       "      <th>0</th>\n",
       "      <td>São Paulo</td>\n",
       "      <td>70</td>\n",
       "      <td>2</td>\n",
       "      <td>1</td>\n",
       "      <td>1</td>\n",
       "      <td>7</td>\n",
       "      <td>acept</td>\n",
       "      <td>furnished</td>\n",
       "      <td>2065</td>\n",
       "      <td>3300</td>\n",
       "      <td>211</td>\n",
       "      <td>42</td>\n",
       "      <td>5618</td>\n",
       "    </tr>\n",
       "    <tr>\n",
       "      <th>1</th>\n",
       "      <td>Porto Alegre</td>\n",
       "      <td>80</td>\n",
       "      <td>1</td>\n",
       "      <td>1</td>\n",
       "      <td>1</td>\n",
       "      <td>6</td>\n",
       "      <td>acept</td>\n",
       "      <td>not furnished</td>\n",
       "      <td>1000</td>\n",
       "      <td>2800</td>\n",
       "      <td>0</td>\n",
       "      <td>41</td>\n",
       "      <td>3841</td>\n",
       "    </tr>\n",
       "    <tr>\n",
       "      <th>2</th>\n",
       "      <td>Porto Alegre</td>\n",
       "      <td>51</td>\n",
       "      <td>2</td>\n",
       "      <td>1</td>\n",
       "      <td>0</td>\n",
       "      <td>2</td>\n",
       "      <td>acept</td>\n",
       "      <td>not furnished</td>\n",
       "      <td>270</td>\n",
       "      <td>1112</td>\n",
       "      <td>22</td>\n",
       "      <td>17</td>\n",
       "      <td>1421</td>\n",
       "    </tr>\n",
       "    <tr>\n",
       "      <th>3</th>\n",
       "      <td>São Paulo</td>\n",
       "      <td>25</td>\n",
       "      <td>1</td>\n",
       "      <td>1</td>\n",
       "      <td>0</td>\n",
       "      <td>1</td>\n",
       "      <td>not acept</td>\n",
       "      <td>not furnished</td>\n",
       "      <td>0</td>\n",
       "      <td>800</td>\n",
       "      <td>25</td>\n",
       "      <td>11</td>\n",
       "      <td>836</td>\n",
       "    </tr>\n",
       "    <tr>\n",
       "      <th>4</th>\n",
       "      <td>Rio de Janeiro</td>\n",
       "      <td>72</td>\n",
       "      <td>2</td>\n",
       "      <td>1</td>\n",
       "      <td>0</td>\n",
       "      <td>7</td>\n",
       "      <td>acept</td>\n",
       "      <td>not furnished</td>\n",
       "      <td>740</td>\n",
       "      <td>1900</td>\n",
       "      <td>85</td>\n",
       "      <td>25</td>\n",
       "      <td>2750</td>\n",
       "    </tr>\n",
       "    <tr>\n",
       "      <th>...</th>\n",
       "      <td>...</td>\n",
       "      <td>...</td>\n",
       "      <td>...</td>\n",
       "      <td>...</td>\n",
       "      <td>...</td>\n",
       "      <td>...</td>\n",
       "      <td>...</td>\n",
       "      <td>...</td>\n",
       "      <td>...</td>\n",
       "      <td>...</td>\n",
       "      <td>...</td>\n",
       "      <td>...</td>\n",
       "      <td>...</td>\n",
       "    </tr>\n",
       "    <tr>\n",
       "      <th>8199</th>\n",
       "      <td>São Paulo</td>\n",
       "      <td>150</td>\n",
       "      <td>3</td>\n",
       "      <td>3</td>\n",
       "      <td>2</td>\n",
       "      <td>8</td>\n",
       "      <td>not acept</td>\n",
       "      <td>furnished</td>\n",
       "      <td>0</td>\n",
       "      <td>13500</td>\n",
       "      <td>0</td>\n",
       "      <td>172</td>\n",
       "      <td>13670</td>\n",
       "    </tr>\n",
       "    <tr>\n",
       "      <th>8200</th>\n",
       "      <td>Porto Alegre</td>\n",
       "      <td>63</td>\n",
       "      <td>2</td>\n",
       "      <td>1</td>\n",
       "      <td>1</td>\n",
       "      <td>5</td>\n",
       "      <td>not acept</td>\n",
       "      <td>furnished</td>\n",
       "      <td>402</td>\n",
       "      <td>1478</td>\n",
       "      <td>24</td>\n",
       "      <td>22</td>\n",
       "      <td>1926</td>\n",
       "    </tr>\n",
       "    <tr>\n",
       "      <th>8201</th>\n",
       "      <td>Rio de Janeiro</td>\n",
       "      <td>70</td>\n",
       "      <td>3</td>\n",
       "      <td>3</td>\n",
       "      <td>0</td>\n",
       "      <td>8</td>\n",
       "      <td>not acept</td>\n",
       "      <td>furnished</td>\n",
       "      <td>980</td>\n",
       "      <td>6000</td>\n",
       "      <td>332</td>\n",
       "      <td>78</td>\n",
       "      <td>7390</td>\n",
       "    </tr>\n",
       "    <tr>\n",
       "      <th>8202</th>\n",
       "      <td>Rio de Janeiro</td>\n",
       "      <td>120</td>\n",
       "      <td>2</td>\n",
       "      <td>2</td>\n",
       "      <td>2</td>\n",
       "      <td>8</td>\n",
       "      <td>acept</td>\n",
       "      <td>furnished</td>\n",
       "      <td>1585</td>\n",
       "      <td>12000</td>\n",
       "      <td>279</td>\n",
       "      <td>155</td>\n",
       "      <td>14020</td>\n",
       "    </tr>\n",
       "    <tr>\n",
       "      <th>8203</th>\n",
       "      <td>São Paulo</td>\n",
       "      <td>80</td>\n",
       "      <td>2</td>\n",
       "      <td>1</td>\n",
       "      <td>0</td>\n",
       "      <td>-</td>\n",
       "      <td>acept</td>\n",
       "      <td>not furnished</td>\n",
       "      <td>0</td>\n",
       "      <td>1400</td>\n",
       "      <td>165</td>\n",
       "      <td>22</td>\n",
       "      <td>1587</td>\n",
       "    </tr>\n",
       "  </tbody>\n",
       "</table>\n",
       "<p>8204 rows × 13 columns</p>\n",
       "</div>"
      ],
      "text/plain": [
       "                city  area  rooms  bathroom  parking spaces floor     animal  \\\n",
       "0          São Paulo    70      2         1               1     7      acept   \n",
       "1       Porto Alegre    80      1         1               1     6      acept   \n",
       "2       Porto Alegre    51      2         1               0     2      acept   \n",
       "3          São Paulo    25      1         1               0     1  not acept   \n",
       "4     Rio de Janeiro    72      2         1               0     7      acept   \n",
       "...              ...   ...    ...       ...             ...   ...        ...   \n",
       "8199       São Paulo   150      3         3               2     8  not acept   \n",
       "8200    Porto Alegre    63      2         1               1     5  not acept   \n",
       "8201  Rio de Janeiro    70      3         3               0     8  not acept   \n",
       "8202  Rio de Janeiro   120      2         2               2     8      acept   \n",
       "8203       São Paulo    80      2         1               0     -      acept   \n",
       "\n",
       "          furniture  hoa (R$)  rent amount (R$)  property tax (R$)  \\\n",
       "0         furnished      2065              3300                211   \n",
       "1     not furnished      1000              2800                  0   \n",
       "2     not furnished       270              1112                 22   \n",
       "3     not furnished         0               800                 25   \n",
       "4     not furnished       740              1900                 85   \n",
       "...             ...       ...               ...                ...   \n",
       "8199      furnished         0             13500                  0   \n",
       "8200      furnished       402              1478                 24   \n",
       "8201      furnished       980              6000                332   \n",
       "8202      furnished      1585             12000                279   \n",
       "8203  not furnished         0              1400                165   \n",
       "\n",
       "      fire insurance (R$)  total (R$)  \n",
       "0                      42        5618  \n",
       "1                      41        3841  \n",
       "2                      17        1421  \n",
       "3                      11         836  \n",
       "4                      25        2750  \n",
       "...                   ...         ...  \n",
       "8199                  172       13670  \n",
       "8200                   22        1926  \n",
       "8201                   78        7390  \n",
       "8202                  155       14020  \n",
       "8203                   22        1587  \n",
       "\n",
       "[8204 rows x 13 columns]"
      ]
     },
     "execution_count": 2,
     "metadata": {},
     "output_type": "execute_result"
    }
   ],
   "source": [
    "imoveis_uri= 'https://d11s0xq1vqg039.cloudfront.net/videos_conteudo/visual/micro05/oficina/arquivos/dadosoficina05.txt'\n",
    "imoveis= pd.read_csv(imoveis_uri)\n",
    "imoveis"
   ]
  },
  {
   "cell_type": "markdown",
   "id": "f40dd06e",
   "metadata": {},
   "source": [
    "# Análise de dados de áreas"
   ]
  },
  {
   "cell_type": "markdown",
   "id": "d8635017",
   "metadata": {},
   "source": [
    "No dataset imoveis e na coluna area, usar o método describe para ter dados a respeito dos valores"
   ]
  },
  {
   "cell_type": "code",
   "execution_count": 3,
   "id": "90836c6e",
   "metadata": {
    "scrolled": true
   },
   "outputs": [
    {
     "data": {
      "text/plain": [
       "count    8204.000000\n",
       "mean       83.148586\n",
       "std        43.455041\n",
       "min        11.000000\n",
       "25%        50.000000\n",
       "50%        71.000000\n",
       "75%       110.000000\n",
       "max       199.000000\n",
       "Name: area, dtype: float64"
      ]
     },
     "execution_count": 3,
     "metadata": {},
     "output_type": "execute_result"
    }
   ],
   "source": [
    "imoveis['area'].describe()"
   ]
  },
  {
   "cell_type": "markdown",
   "id": "3c0fe5d1",
   "metadata": {},
   "source": [
    "Configurar tamanho do gráfico;\n",
    "Aplicar um estilo de fundo;\n",
    "Atribuir um título ao gráfico;\n",
    "utilizar o método de gráficos hist = histograma da series área\n",
    "mostrar o gráfico"
   ]
  },
  {
   "cell_type": "code",
   "execution_count": 4,
   "id": "8b44795b",
   "metadata": {},
   "outputs": [
    {
     "data": {
      "image/png": "[encoded data removed]",
      "text/plain": [
       "<Figure size 1440x576 with 1 Axes>"
      ]
     },
     "metadata": {
      "needs_background": "light"
     },
     "output_type": "display_data"
    }
   ],
   "source": [
    "plt.figure(figsize=(20,8))\n",
    "plt.style.use('seaborn-whitegrid')\n",
    "plt.title('Distribuição de áreas dos imóveis')\n",
    "plt.hist(imoveis['area'])\n",
    "plt.xlabel('Área em m^2')\n",
    "plt.ylabel('Quantidade de imóveis')\n",
    "plt.show()"
   ]
  },
  {
   "cell_type": "markdown",
   "id": "d8a856e1",
   "metadata": {},
   "source": [
    "Parâmetro bins da função hist()\n",
    "Definição das divisões(barras): bins\n",
    "Mais bins: mais precisão / mais ruidoso e mais difícil interpretação"
   ]
  },
  {
   "cell_type": "code",
   "execution_count": 17,
   "id": "6ad26e03",
   "metadata": {},
   "outputs": [
    {
     "data": {
      "image/png": "[encoded data removed]",
      "text/plain": [
       "<Figure size 1440x576 with 1 Axes>"
      ]
     },
     "metadata": {},
     "output_type": "display_data"
    }
   ],
   "source": [
    "plt.figure(figsize=(20,8))\n",
    "plt.style.use('seaborn-whitegrid')\n",
    "plt.title('Distribuição de áreas dos imóveis')\n",
    "plt.hist(imoveis['area'], bins= 50)\n",
    "plt.xlabel('Área em m^2')\n",
    "plt.ylabel('Quantidade de imóveis')\n",
    "plt.show()"
   ]
  },
  {
   "cell_type": "markdown",
   "id": "b6dcd19a",
   "metadata": {},
   "source": [
    "# Criar e modificar gráficos de densidade"
   ]
  },
  {
   "cell_type": "markdown",
   "id": "324489dd",
   "metadata": {},
   "source": [
    "Apliucação da função displot\n",
    "Apresenta uma curva de probabilidade de ocorrência dos dados e um histograma em azul claro ao fundo.\n",
    "Logo, pela curva de probabilidade, as regiões mais prováveis estão entre 50 e 70 m²."
   ]
  },
  {
   "cell_type": "code",
   "execution_count": 12,
   "id": "fc552ced",
   "metadata": {},
   "outputs": [
    {
     "name": "stderr",
     "output_type": "stream",
     "text": [
      "C:\\ProgramData\\Anaconda3\\lib\\site-packages\\seaborn\\distributions.py:2557: FutureWarning: `distplot` is a deprecated function and will be removed in a future version. Please adapt your code to use either `displot` (a figure-level function with similar flexibility) or `histplot` (an axes-level function for histograms).\n",
      "  warnings.warn(msg, FutureWarning)\n"
     ]
    },
    {
     "data": {
      "image/png": "[encoded data removed]",
      "text/plain": [
       "<Figure size 720x360 with 1 Axes>"
      ]
     },
     "metadata": {},
     "output_type": "display_data"
    }
   ],
   "source": [
    "plt.figure(figsize=(10, 5))\n",
    "plt.title('Distribuição de áreas dos imóveis')\n",
    "sns.distplot(imoveis['area'])\n",
    "plt.show()"
   ]
  },
  {
   "cell_type": "markdown",
   "id": "211c2ba4",
   "metadata": {},
   "source": [
    "Apenas curva de probabilidade;\n",
    "Função kdeplot(argumentos);\n",
    "Parâmetro shade com valor True para dar sombra\n",
    "Consulte a documentação oficial disponível nos links: https://seaborn.pydata.org/generated/seaborn.distplot.html#seaborn.distplot e https://seaborn.pydata.org/generated/seaborn.kdeplot.html#seaborn.kdeplot."
   ]
  },
  {
   "cell_type": "code",
   "execution_count": 20,
   "id": "c0430ef6",
   "metadata": {},
   "outputs": [
    {
     "data": {
      "image/png": "[encoded data removed]",
      "text/plain": [
       "<Figure size 720x360 with 1 Axes>"
      ]
     },
     "metadata": {},
     "output_type": "display_data"
    }
   ],
   "source": [
    "plt.figure(figsize=(10, 5))\n",
    "plt.title('Distribuição de áreas dos imóveis')\n",
    "sns.kdeplot(imoveis['area'], shade=True)\n",
    "plt.show()"
   ]
  },
  {
   "cell_type": "code",
   "execution_count": null,
   "id": "c919bada",
   "metadata": {},
   "outputs": [],
   "source": []
  }
 ],
 "metadata": {
  "kernelspec": {
   "display_name": "Python 3",
   "language": "python",
   "name": "python3"
  },
  "language_info": {
   "codemirror_mode": {
    "name": "ipython",
    "version": 3
   },
   "file_extension": ".py",
   "mimetype": "text/x-python",
   "name": "python",
   "nbconvert_exporter": "python",
   "pygments_lexer": "ipython3",
   "version": "3.8.8"
  }
 },
 "nbformat": 4,
 "nbformat_minor": 5
}
