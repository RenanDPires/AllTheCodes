{
 "cells": [
  {
   "cell_type": "markdown",
   "metadata": {},
   "source": [
    "<img src='tensor.png'>"
   ]
  },
  {
   "cell_type": "markdown",
   "metadata": {},
   "source": [
    "<img src='parcs.png'>"
   ]
  },
  {
   "cell_type": "code",
   "execution_count": 22,
   "metadata": {
    "colab": {},
    "colab_type": "code",
    "id": "_c6kGgLq6B6R"
   },
   "outputs": [],
   "source": [
    "import tensorflow as tf\n",
    "from tensorflow import keras\n",
    "import numpy as np"
   ]
  },
  {
   "cell_type": "code",
   "execution_count": 23,
   "metadata": {
    "colab": {},
    "colab_type": "code",
    "id": "5ksvsRB16B6c"
   },
   "outputs": [],
   "source": [
    "fashion_mnist = keras.datasets.fashion_mnist\n",
    "\n",
    "(train_images, train_labels), (test_images, test_labels) = fashion_mnist.load_data()"
   ]
  },
  {
   "cell_type": "code",
   "execution_count": 24,
   "metadata": {
    "colab": {
     "base_uri": "https://localhost:8080/",
     "height": 34
    },
    "colab_type": "code",
    "executionInfo": {
     "elapsed": 379,
     "status": "ok",
     "timestamp": 1562696807347,
     "user": {
      "displayName": "Lucas G. Moura Leite",
      "photoUrl": "https://lh6.googleusercontent.com/-OzK-WjeoQAc/AAAAAAAAAAI/AAAAAAAAAGs/reQ3J8zZhu0/s64/photo.jpg",
      "userId": "15064829072844083005"
     },
     "user_tz": 180
    },
    "id": "aevxZgo26B6j",
    "outputId": "adb2961d-9fd2-4b2c-ff98-5b07f8677727"
   },
   "outputs": [
    {
     "data": {
      "text/plain": [
       "(60000, 28, 28)"
      ]
     },
     "execution_count": 24,
     "metadata": {},
     "output_type": "execute_result"
    }
   ],
   "source": [
    "train_images.shape"
   ]
  },
  {
   "cell_type": "code",
   "execution_count": 25,
   "metadata": {
    "colab": {
     "base_uri": "https://localhost:8080/",
     "height": 34
    },
    "colab_type": "code",
    "executionInfo": {
     "elapsed": 498,
     "status": "ok",
     "timestamp": 1562696808595,
     "user": {
      "displayName": "Lucas G. Moura Leite",
      "photoUrl": "https://lh6.googleusercontent.com/-OzK-WjeoQAc/AAAAAAAAAAI/AAAAAAAAAGs/reQ3J8zZhu0/s64/photo.jpg",
      "userId": "15064829072844083005"
     },
     "user_tz": 180
    },
    "id": "84Cf91vr6B6n",
    "outputId": "376e9882-7881-4c35-8e6a-8cc89cba2495"
   },
   "outputs": [
    {
     "data": {
      "text/plain": [
       "60000"
      ]
     },
     "execution_count": 25,
     "metadata": {},
     "output_type": "execute_result"
    }
   ],
   "source": [
    "len(train_labels)"
   ]
  },
  {
   "cell_type": "code",
   "execution_count": 26,
   "metadata": {
    "colab": {
     "base_uri": "https://localhost:8080/",
     "height": 34
    },
    "colab_type": "code",
    "executionInfo": {
     "elapsed": 526,
     "status": "ok",
     "timestamp": 1562696854642,
     "user": {
      "displayName": "Lucas G. Moura Leite",
      "photoUrl": "https://lh6.googleusercontent.com/-OzK-WjeoQAc/AAAAAAAAAAI/AAAAAAAAAGs/reQ3J8zZhu0/s64/photo.jpg",
      "userId": "15064829072844083005"
     },
     "user_tz": 180
    },
    "id": "bQI68dl56B6r",
    "outputId": "1c039fbd-95b2-4af0-9d46-bf465acc8b6b"
   },
   "outputs": [
    {
     "data": {
      "text/plain": [
       "array([0, 1, 2, 3, 4, 5, 6, 7, 8, 9], dtype=uint8)"
      ]
     },
     "execution_count": 26,
     "metadata": {},
     "output_type": "execute_result"
    }
   ],
   "source": [
    "np.unique(train_labels)"
   ]
  },
  {
   "cell_type": "code",
   "execution_count": 27,
   "metadata": {
    "colab": {
     "base_uri": "https://localhost:8080/",
     "height": 34
    },
    "colab_type": "code",
    "executionInfo": {
     "elapsed": 520,
     "status": "ok",
     "timestamp": 1562696882292,
     "user": {
      "displayName": "Lucas G. Moura Leite",
      "photoUrl": "https://lh6.googleusercontent.com/-OzK-WjeoQAc/AAAAAAAAAAI/AAAAAAAAAGs/reQ3J8zZhu0/s64/photo.jpg",
      "userId": "15064829072844083005"
     },
     "user_tz": 180
    },
    "id": "bxPD-Au-6B6v",
    "outputId": "a3fb40a4-12b9-4972-9805-7add74f94b93"
   },
   "outputs": [
    {
     "data": {
      "text/plain": [
       "(10000, 28, 28)"
      ]
     },
     "execution_count": 27,
     "metadata": {},
     "output_type": "execute_result"
    }
   ],
   "source": [
    "test_images.shape"
   ]
  },
  {
   "cell_type": "code",
   "execution_count": 28,
   "metadata": {
    "colab": {
     "base_uri": "https://localhost:8080/",
     "height": 34
    },
    "colab_type": "code",
    "executionInfo": {
     "elapsed": 551,
     "status": "ok",
     "timestamp": 1562696883484,
     "user": {
      "displayName": "Lucas G. Moura Leite",
      "photoUrl": "https://lh6.googleusercontent.com/-OzK-WjeoQAc/AAAAAAAAAAI/AAAAAAAAAGs/reQ3J8zZhu0/s64/photo.jpg",
      "userId": "15064829072844083005"
     },
     "user_tz": 180
    },
    "id": "b42JxOQn6B60",
    "outputId": "f3839c86-ed56-4927-809e-3346091f2698"
   },
   "outputs": [
    {
     "data": {
      "text/plain": [
       "10000"
      ]
     },
     "execution_count": 28,
     "metadata": {},
     "output_type": "execute_result"
    }
   ],
   "source": [
    "len(test_labels)"
   ]
  },
  {
   "cell_type": "code",
   "execution_count": 29,
   "metadata": {
    "colab": {
     "base_uri": "https://localhost:8080/",
     "height": 34
    },
    "colab_type": "code",
    "executionInfo": {
     "elapsed": 511,
     "status": "ok",
     "timestamp": 1562696884889,
     "user": {
      "displayName": "Lucas G. Moura Leite",
      "photoUrl": "https://lh6.googleusercontent.com/-OzK-WjeoQAc/AAAAAAAAAAI/AAAAAAAAAGs/reQ3J8zZhu0/s64/photo.jpg",
      "userId": "15064829072844083005"
     },
     "user_tz": 180
    },
    "id": "9JZ0l1ph6B64",
    "outputId": "de142331-5222-4189-9bfe-aa8d74239526"
   },
   "outputs": [
    {
     "data": {
      "text/plain": [
       "array([9, 2, 1, ..., 8, 1, 5], dtype=uint8)"
      ]
     },
     "execution_count": 29,
     "metadata": {},
     "output_type": "execute_result"
    }
   ],
   "source": [
    "test_labels"
   ]
  },
  {
   "cell_type": "code",
   "execution_count": 30,
   "metadata": {
    "colab": {},
    "colab_type": "code",
    "id": "L3SKeNvS6B7D"
   },
   "outputs": [],
   "source": [
    "train_images = train_images / 255.0\n",
    "\n",
    "test_images = test_images / 255.0"
   ]
  },
  {
   "cell_type": "code",
   "execution_count": 31,
   "metadata": {
    "colab": {
     "base_uri": "https://localhost:8080/",
     "height": 255
    },
    "colab_type": "code",
    "executionInfo": {
     "elapsed": 501,
     "status": "ok",
     "timestamp": 1562697233662,
     "user": {
      "displayName": "Lucas G. Moura Leite",
      "photoUrl": "https://lh6.googleusercontent.com/-OzK-WjeoQAc/AAAAAAAAAAI/AAAAAAAAAGs/reQ3J8zZhu0/s64/photo.jpg",
      "userId": "15064829072844083005"
     },
     "user_tz": 180
    },
    "id": "FZ21TQ4O6B7J",
    "outputId": "d8c3e208-ea76-4f52-a830-3ee4013dfd80"
   },
   "outputs": [
    {
     "name": "stdout",
     "output_type": "stream",
     "text": [
      "Model: \"sequential_1\"\n",
      "_________________________________________________________________\n",
      "Layer (type)                 Output Shape              Param #   \n",
      "=================================================================\n",
      "flatten_1 (Flatten)          (None, 784)               0         \n",
      "_________________________________________________________________\n",
      "dense_2 (Dense)              (None, 50)                39250     \n",
      "_________________________________________________________________\n",
      "dense_3 (Dense)              (None, 10)                510       \n",
      "=================================================================\n",
      "Total params: 39,760\n",
      "Trainable params: 39,760\n",
      "Non-trainable params: 0\n",
      "_________________________________________________________________\n"
     ]
    }
   ],
   "source": [
    "model = keras.Sequential([\n",
    "    keras.layers.Flatten(input_shape=(28, 28)),\n",
    "    keras.layers.Dense(50, activation=tf.nn.relu),\n",
    "    keras.layers.Dense(10, activation=tf.nn.softmax)\n",
    "])\n",
    "model.summary()"
   ]
  },
  {
   "cell_type": "code",
   "execution_count": 32,
   "metadata": {
    "colab": {},
    "colab_type": "code",
    "id": "2YLI-l8B6B7N"
   },
   "outputs": [],
   "source": [
    "model.compile(optimizer='adam', \n",
    "              loss='sparse_categorical_crossentropy',\n",
    "              metrics=['accuracy'])"
   ]
  },
  {
   "cell_type": "code",
   "execution_count": 33,
   "metadata": {
    "colab": {
     "base_uri": "https://localhost:8080/",
     "height": 204
    },
    "colab_type": "code",
    "executionInfo": {
     "elapsed": 21348,
     "status": "ok",
     "timestamp": 1562697328676,
     "user": {
      "displayName": "Lucas G. Moura Leite",
      "photoUrl": "https://lh6.googleusercontent.com/-OzK-WjeoQAc/AAAAAAAAAAI/AAAAAAAAAGs/reQ3J8zZhu0/s64/photo.jpg",
      "userId": "15064829072844083005"
     },
     "user_tz": 180
    },
    "id": "cBGct1Ij6B7R",
    "outputId": "08170d24-fadf-4bba-af9a-df75538e1aa7"
   },
   "outputs": [
    {
     "name": "stdout",
     "output_type": "stream",
     "text": [
      "Epoch 1/5\n",
      "1875/1875 [==============================] - 2s 1ms/step - loss: 0.5226 - accuracy: 0.8194\n",
      "Epoch 2/5\n",
      "1875/1875 [==============================] - 2s 1ms/step - loss: 0.3977 - accuracy: 0.8600\n",
      "Epoch 3/5\n",
      "1875/1875 [==============================] - 3s 1ms/step - loss: 0.3610 - accuracy: 0.8713\n",
      "Epoch 4/5\n",
      "1875/1875 [==============================] - 3s 1ms/step - loss: 0.3380 - accuracy: 0.8795: 0s -\n",
      "Epoch 5/5\n",
      "1875/1875 [==============================] - 2s 1ms/step - loss: 0.3213 - accuracy: 0.8829\n"
     ]
    },
    {
     "data": {
      "text/plain": [
       "<tensorflow.python.keras.callbacks.History at 0x20ef8ddbe50>"
      ]
     },
     "execution_count": 33,
     "metadata": {},
     "output_type": "execute_result"
    }
   ],
   "source": [
    "model.fit(train_images, train_labels, epochs=5)"
   ]
  },
  {
   "cell_type": "code",
   "execution_count": 34,
   "metadata": {
    "colab": {
     "base_uri": "https://localhost:8080/",
     "height": 51
    },
    "colab_type": "code",
    "executionInfo": {
     "elapsed": 772,
     "status": "ok",
     "timestamp": 1562697751534,
     "user": {
      "displayName": "Lucas G. Moura Leite",
      "photoUrl": "https://lh6.googleusercontent.com/-OzK-WjeoQAc/AAAAAAAAAAI/AAAAAAAAAGs/reQ3J8zZhu0/s64/photo.jpg",
      "userId": "15064829072844083005"
     },
     "user_tz": 180
    },
    "id": "m_XoCgZx6B7X",
    "outputId": "0ae4e053-8988-43fa-ca79-2f98da0b3621"
   },
   "outputs": [
    {
     "name": "stdout",
     "output_type": "stream",
     "text": [
      "313/313 [==============================] - 0s 974us/step - loss: 0.3623 - accuracy: 0.8703\n",
      "Test accuracy: 0.8702999949455261\n"
     ]
    }
   ],
   "source": [
    "test_loss, test_acc = model.evaluate(test_images, test_labels)\n",
    "\n",
    "print('Test accuracy:', test_acc)"
   ]
  },
  {
   "cell_type": "code",
   "execution_count": 35,
   "metadata": {
    "colab": {},
    "colab_type": "code",
    "id": "831mHUzm6B7e"
   },
   "outputs": [],
   "source": [
    "predictions = model.predict(test_images)"
   ]
  },
  {
   "cell_type": "code",
   "execution_count": 36,
   "metadata": {
    "colab": {
     "base_uri": "https://localhost:8080/",
     "height": 68
    },
    "colab_type": "code",
    "executionInfo": {
     "elapsed": 516,
     "status": "ok",
     "timestamp": 1562697769079,
     "user": {
      "displayName": "Lucas G. Moura Leite",
      "photoUrl": "https://lh6.googleusercontent.com/-OzK-WjeoQAc/AAAAAAAAAAI/AAAAAAAAAGs/reQ3J8zZhu0/s64/photo.jpg",
      "userId": "15064829072844083005"
     },
     "user_tz": 180
    },
    "id": "VKWN75Op6B7h",
    "outputId": "7bcf0d03-7c62-43d1-cfaf-79377d218568"
   },
   "outputs": [
    {
     "data": {
      "text/plain": [
       "array([7.2995063e-06, 6.8379045e-09, 7.2069001e-06, 8.5198906e-07,\n",
       "       1.9883951e-06, 5.8616698e-03, 2.4945211e-05, 2.8775614e-02,\n",
       "       2.3169605e-04, 9.6508873e-01], dtype=float32)"
      ]
     },
     "execution_count": 36,
     "metadata": {},
     "output_type": "execute_result"
    }
   ],
   "source": [
    "predictions[0]"
   ]
  },
  {
   "cell_type": "code",
   "execution_count": 37,
   "metadata": {
    "colab": {
     "base_uri": "https://localhost:8080/",
     "height": 34
    },
    "colab_type": "code",
    "executionInfo": {
     "elapsed": 516,
     "status": "ok",
     "timestamp": 1562697788028,
     "user": {
      "displayName": "Lucas G. Moura Leite",
      "photoUrl": "https://lh6.googleusercontent.com/-OzK-WjeoQAc/AAAAAAAAAAI/AAAAAAAAAGs/reQ3J8zZhu0/s64/photo.jpg",
      "userId": "15064829072844083005"
     },
     "user_tz": 180
    },
    "id": "kaStAfhm6B7o",
    "outputId": "f7d789c2-6ba2-425d-8fb6-c7bbaab48b3e"
   },
   "outputs": [
    {
     "data": {
      "text/plain": [
       "9"
      ]
     },
     "execution_count": 37,
     "metadata": {},
     "output_type": "execute_result"
    }
   ],
   "source": [
    "np.argmax(predictions[0])"
   ]
  },
  {
   "cell_type": "code",
   "execution_count": 38,
   "metadata": {
    "colab": {
     "base_uri": "https://localhost:8080/",
     "height": 34
    },
    "colab_type": "code",
    "executionInfo": {
     "elapsed": 519,
     "status": "ok",
     "timestamp": 1562697802718,
     "user": {
      "displayName": "Lucas G. Moura Leite",
      "photoUrl": "https://lh6.googleusercontent.com/-OzK-WjeoQAc/AAAAAAAAAAI/AAAAAAAAAGs/reQ3J8zZhu0/s64/photo.jpg",
      "userId": "15064829072844083005"
     },
     "user_tz": 180
    },
    "id": "_JNGtaUf6B7t",
    "outputId": "0a3e3cf6-f94f-4b4c-ec4d-3c086c8d3056"
   },
   "outputs": [
    {
     "data": {
      "text/plain": [
       "9"
      ]
     },
     "execution_count": 38,
     "metadata": {},
     "output_type": "execute_result"
    }
   ],
   "source": [
    "test_labels[0]"
   ]
  },
  {
   "cell_type": "code",
   "execution_count": 39,
   "metadata": {
    "colab": {},
    "colab_type": "code",
    "id": "9PRNwJjx6B8D"
   },
   "outputs": [
    {
     "name": "stdout",
     "output_type": "stream",
     "text": [
      "(28, 28)\n"
     ]
    }
   ],
   "source": [
    "img = test_images[0]\n",
    "\n",
    "print(img.shape)"
   ]
  },
  {
   "cell_type": "code",
   "execution_count": 40,
   "metadata": {
    "colab": {},
    "colab_type": "code",
    "id": "rgAEBBvr6B8H"
   },
   "outputs": [
    {
     "name": "stdout",
     "output_type": "stream",
     "text": [
      "(1, 28, 28)\n"
     ]
    }
   ],
   "source": [
    "img = (np.expand_dims(img,0))\n",
    "\n",
    "print(img.shape)"
   ]
  },
  {
   "cell_type": "code",
   "execution_count": 41,
   "metadata": {
    "colab": {},
    "colab_type": "code",
    "id": "kBd9iSvk6B8L"
   },
   "outputs": [
    {
     "name": "stdout",
     "output_type": "stream",
     "text": [
      "[[7.2995135e-06 6.8379178e-09 7.2068929e-06 8.5198906e-07 1.9883930e-06\n",
      "  5.8616726e-03 2.4945211e-05 2.8775621e-02 2.3169605e-04 9.6508873e-01]]\n"
     ]
    }
   ],
   "source": [
    "predictions_single = model.predict(img)\n",
    "\n",
    "print(predictions_single)"
   ]
  },
  {
   "cell_type": "code",
   "execution_count": 42,
   "metadata": {
    "colab": {},
    "colab_type": "code",
    "id": "buMojq1B6B8S"
   },
   "outputs": [
    {
     "data": {
      "text/plain": [
       "9"
      ]
     },
     "execution_count": 42,
     "metadata": {},
     "output_type": "execute_result"
    }
   ],
   "source": [
    "np.argmax(predictions_single[0])"
   ]
  },
  {
   "cell_type": "code",
   "execution_count": null,
   "metadata": {},
   "outputs": [],
   "source": []
  }
 ],
 "metadata": {
  "colab": {
   "name": "1-Tensorflow.ipynb",
   "provenance": [],
   "version": "0.3.2"
  },
  "kernelspec": {
   "display_name": "Python 3 (ipykernel)",
   "language": "python",
   "name": "python3"
  },
  "language_info": {
   "codemirror_mode": {
    "name": "ipython",
    "version": 3
   },
   "file_extension": ".py",
   "mimetype": "text/x-python",
   "name": "python",
   "nbconvert_exporter": "python",
   "pygments_lexer": "ipython3",
   "version": "3.8.12"
  }
 },
 "nbformat": 4,
 "nbformat_minor": 2
}
