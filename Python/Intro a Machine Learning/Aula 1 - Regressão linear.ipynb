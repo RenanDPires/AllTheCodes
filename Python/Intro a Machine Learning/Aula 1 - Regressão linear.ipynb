{
 "cells": [
  {
   "cell_type": "markdown",
   "id": "24414e8f",
   "metadata": {},
   "source": [
    "# Importar bibliotecas necessárias"
   ]
  },
  {
   "cell_type": "code",
   "execution_count": 1,
   "id": "3e2e3fc1",
   "metadata": {},
   "outputs": [],
   "source": [
    "import numpy as np"
   ]
  },
  {
   "cell_type": "code",
   "execution_count": 2,
   "id": "056c900c",
   "metadata": {},
   "outputs": [],
   "source": [
    "import pandas as pd"
   ]
  },
  {
   "cell_type": "code",
   "execution_count": 3,
   "id": "ff4fc925",
   "metadata": {},
   "outputs": [],
   "source": [
    "import matplotlib.pyplot as plt"
   ]
  },
  {
   "cell_type": "markdown",
   "id": "d7f97874",
   "metadata": {},
   "source": [
    "# Inserindo os dados"
   ]
  },
  {
   "cell_type": "code",
   "execution_count": 4,
   "id": "1a9b1e1d",
   "metadata": {},
   "outputs": [],
   "source": [
    "temperatura= np.array([30,25,36,18,25,29,30,33,37,31,26,37,29,26,30,31,34,38])"
   ]
  },
  {
   "cell_type": "code",
   "execution_count": 5,
   "id": "86552787",
   "metadata": {},
   "outputs": [],
   "source": [
    "sorvetes= np.array([20,12,50,10,18,25,26,32,48,22,16,52,24,20,28,29,35,40])"
   ]
  },
  {
   "cell_type": "code",
   "execution_count": 6,
   "id": "89daca13",
   "metadata": {},
   "outputs": [],
   "source": [
    "dataframe= pd.DataFrame({'Temperatura': temperatura, 'Sorvetes': sorvetes})"
   ]
  },
  {
   "cell_type": "code",
   "execution_count": 7,
   "id": "fe722e8a",
   "metadata": {},
   "outputs": [
    {
     "data": {
      "text/html": [
       "<div>\n",
       "<style scoped>\n",
       "    .dataframe tbody tr th:only-of-type {\n",
       "        vertical-align: middle;\n",
       "    }\n",
       "\n",
       "    .dataframe tbody tr th {\n",
       "        vertical-align: top;\n",
       "    }\n",
       "\n",
       "    .dataframe thead th {\n",
       "        text-align: right;\n",
       "    }\n",
       "</style>\n",
       "<table border=\"1\" class=\"dataframe\">\n",
       "  <thead>\n",
       "    <tr style=\"text-align: right;\">\n",
       "      <th></th>\n",
       "      <th>Temperatura</th>\n",
       "      <th>Sorvetes</th>\n",
       "    </tr>\n",
       "  </thead>\n",
       "  <tbody>\n",
       "    <tr>\n",
       "      <th>0</th>\n",
       "      <td>30</td>\n",
       "      <td>20</td>\n",
       "    </tr>\n",
       "    <tr>\n",
       "      <th>1</th>\n",
       "      <td>25</td>\n",
       "      <td>12</td>\n",
       "    </tr>\n",
       "    <tr>\n",
       "      <th>2</th>\n",
       "      <td>36</td>\n",
       "      <td>50</td>\n",
       "    </tr>\n",
       "    <tr>\n",
       "      <th>3</th>\n",
       "      <td>18</td>\n",
       "      <td>10</td>\n",
       "    </tr>\n",
       "    <tr>\n",
       "      <th>4</th>\n",
       "      <td>25</td>\n",
       "      <td>18</td>\n",
       "    </tr>\n",
       "  </tbody>\n",
       "</table>\n",
       "</div>"
      ],
      "text/plain": [
       "   Temperatura  Sorvetes\n",
       "0           30        20\n",
       "1           25        12\n",
       "2           36        50\n",
       "3           18        10\n",
       "4           25        18"
      ]
     },
     "execution_count": 7,
     "metadata": {},
     "output_type": "execute_result"
    }
   ],
   "source": [
    "dataframe.head()"
   ]
  },
  {
   "cell_type": "markdown",
   "id": "51c1b9d1",
   "metadata": {},
   "source": [
    "# Gerando gráfico"
   ]
  },
  {
   "cell_type": "code",
   "execution_count": 8,
   "id": "65768c5e",
   "metadata": {
    "scrolled": false
   },
   "outputs": [
    {
     "data": {
      "text/plain": [
       "<function matplotlib.pyplot.show(close=None, block=None)>"
      ]
     },
     "execution_count": 8,
     "metadata": {},
     "output_type": "execute_result"
    },
    {
     "data": {
      "image/png": "[encoded data removed]",
      "text/plain": [
       "<Figure size 432x288 with 1 Axes>"
      ]
     },
     "metadata": {
      "needs_background": "light"
     },
     "output_type": "display_data"
    }
   ],
   "source": [
    "plt.plot(dataframe['Temperatura'], dataframe['Sorvetes'], '.')\n",
    "plt.xlabel('Temperatura')\n",
    "plt.ylabel('Sorvetes vendidos')\n",
    "plt.show"
   ]
  },
  {
   "cell_type": "markdown",
   "id": "744ac23d",
   "metadata": {},
   "source": [
    "#  Separação de variável independente e variável dependente"
   ]
  },
  {
   "cell_type": "markdown",
   "id": "af888d63",
   "metadata": {},
   "source": [
    "Transformando dados para float"
   ]
  },
  {
   "cell_type": "code",
   "execution_count": 9,
   "id": "6c0c89f6",
   "metadata": {},
   "outputs": [],
   "source": [
    "x= dataframe['Temperatura'].to_numpy()"
   ]
  },
  {
   "cell_type": "code",
   "execution_count": 10,
   "id": "493e1060",
   "metadata": {},
   "outputs": [],
   "source": [
    "y= dataframe['Sorvetes'].to_numpy()"
   ]
  },
  {
   "cell_type": "markdown",
   "id": "4ae6ae20",
   "metadata": {},
   "source": [
    "Importação da biblioteca para treinamento. O split divide os dados em duas partes, uma para treinar e outra para teste. Sendo 80% para treino e 20% para teste."
   ]
  },
  {
   "cell_type": "code",
   "execution_count": 11,
   "id": "33de5b12",
   "metadata": {},
   "outputs": [],
   "source": [
    "from sklearn.model_selection import train_test_split"
   ]
  },
  {
   "cell_type": "code",
   "execution_count": 12,
   "id": "75ed5f4d",
   "metadata": {},
   "outputs": [],
   "source": [
    "x_treino, x_teste, y_treino, y_teste = train_test_split(x,y, test_size= 0.2)"
   ]
  },
  {
   "cell_type": "markdown",
   "id": "79332b1e",
   "metadata": {},
   "source": [
    "# Treinando o modelo"
   ]
  },
  {
   "cell_type": "code",
   "execution_count": 13,
   "id": "b6f8b9d8",
   "metadata": {},
   "outputs": [],
   "source": [
    "from sklearn.linear_model import LinearRegression"
   ]
  },
  {
   "cell_type": "code",
   "execution_count": 14,
   "id": "247d7b75",
   "metadata": {},
   "outputs": [
    {
     "data": {
      "text/plain": [
       "LinearRegression()"
      ]
     },
     "execution_count": 14,
     "metadata": {},
     "output_type": "execute_result"
    }
   ],
   "source": [
    "modelo= LinearRegression()\n",
    "modelo.fit(x_treino.reshape(-1,1), y_treino.reshape(-1,1))"
   ]
  },
  {
   "cell_type": "markdown",
   "id": "e6c3417c",
   "metadata": {},
   "source": [
    "# Realizando a previsão do número de sorvetes a serem vendidos"
   ]
  },
  {
   "cell_type": "code",
   "execution_count": 15,
   "id": "4568b517",
   "metadata": {},
   "outputs": [],
   "source": [
    "y_previsto= modelo.predict(x_teste.reshape(-1,1))"
   ]
  },
  {
   "cell_type": "code",
   "execution_count": 16,
   "id": "079cedb0",
   "metadata": {},
   "outputs": [
    {
     "data": {
      "image/png": "[encoded data removed]",
      "text/plain": [
       "<Figure size 432x288 with 1 Axes>"
      ]
     },
     "metadata": {
      "needs_background": "light"
     },
     "output_type": "display_data"
    }
   ],
   "source": [
    "plt.plot(range(y_previsto.shape[0]), y_previsto, 'r--')\n",
    "plt.plot(range(y_teste.shape[0]), y_teste, 'g--')\n",
    "plt.legend(['Sorvetes previstos', 'Sorvetes vendidos'])\n",
    "plt.xlabel('Índice')\n",
    "plt.ylabel('Sorvetes')\n",
    "plt.show()"
   ]
  }
 ],
 "metadata": {
  "kernelspec": {
   "display_name": "Python 3",
   "language": "python",
   "name": "python3"
  },
  "language_info": {
   "codemirror_mode": {
    "name": "ipython",
    "version": 3
   },
   "file_extension": ".py",
   "mimetype": "text/x-python",
   "name": "python",
   "nbconvert_exporter": "python",
   "pygments_lexer": "ipython3",
   "version": "3.8.8"
  }
 },
 "nbformat": 4,
 "nbformat_minor": 5
}
